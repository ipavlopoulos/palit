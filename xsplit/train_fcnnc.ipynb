{
  "cells": [
    {
      "cell_type": "markdown",
      "metadata": {
        "id": "view-in-github",
        "colab_type": "text"
      },
      "source": [
        "<a href=\"https://colab.research.google.com/github/ipavlopoulos/palit/blob/main/train_fcnnc.ipynb\" target=\"_parent\"><img src=\"https://colab.research.google.com/assets/colab-badge.svg\" alt=\"Open In Colab\"/></a>"
      ]
    },
    {
      "cell_type": "markdown",
      "metadata": {
        "id": "xHAsYxZ1fGFT"
      },
      "source": [
        "# fCNNc \n",
        "* A CNN classifier using a fragmentation-based augmentation strategy\n",
        "* Train/val/test split respects the information about the papyri the lines were taken from, avoiding data leaking "
      ]
    },
    {
      "cell_type": "code",
      "execution_count": 1,
      "metadata": {
        "id": "adMNIwDMfGFX",
        "cellView": "form"
      },
      "outputs": [],
      "source": [
        "#@title Importing\n",
        "import torch\n",
        "import torch.nn.functional as F\n",
        "import torch.nn as nn\n",
        "import torch.optim as optim\n",
        "from torchvision import transforms\n",
        "from torch.utils.data import DataLoader\n",
        "from torch.utils.data import Dataset, TensorDataset\n",
        "\n",
        "import numpy as np\n",
        "import pandas as pd\n",
        "import matplotlib.pyplot as plt\n",
        "import seaborn as sns\n",
        "import skimage\n",
        "from skimage import transform\n",
        "from sklearn.model_selection import train_test_split\n",
        "from sklearn.preprocessing import OneHotEncoder\n",
        "from sklearn.metrics import *\n",
        "from sklearn.model_selection import GroupShuffleSplit, train_test_split\n",
        "from sklearn.metrics import confusion_matrix\n",
        "import xgboost as xgb \n",
        "\n",
        "from tqdm.notebook import tqdm\n",
        "import os\n",
        "import random"
      ]
    },
    {
      "cell_type": "code",
      "execution_count": 2,
      "metadata": {
        "id": "t25ICipDfGFc",
        "cellView": "form"
      },
      "outputs": [],
      "source": [
        "#@title Source: The architecture\n",
        "\n",
        "class CNNCLF(nn.Module):\n",
        "    def __init__(self, n_classes):\n",
        "        super().__init__()\n",
        "\n",
        "        self.CNN = nn.Sequential(\n",
        "            nn.Conv2d(1, 32, kernel_size=5, stride=1, padding=0),\n",
        "            nn.ReLU(inplace=True),\n",
        "            nn.MaxPool2d(2, 2),\n",
        "            nn.BatchNorm2d(32),\n",
        "            \n",
        "            nn.Conv2d(32, 64, kernel_size=5),\n",
        "            nn.ReLU(inplace=True),\n",
        "            nn.BatchNorm2d(64),\n",
        "            nn.MaxPool2d(2, 2),\n",
        "        )\n",
        "        \n",
        "        self.MLP = nn.Sequential(\n",
        "            nn.Linear(41472, 1024, bias=True),\n",
        "            nn.ReLU(inplace=True),\n",
        "            nn.BatchNorm1d(1024),\n",
        "            nn.Dropout(p=0.1, inplace=True),\n",
        "            \n",
        "            nn.Linear(1024, 512, bias=True),\n",
        "            nn.ReLU(inplace=True),\n",
        "            nn.BatchNorm1d(512),\n",
        "            nn.Dropout(p=0.1, inplace=True),\n",
        "            \n",
        "            nn.Linear(512, n_classes, bias=True)\n",
        "        )\n",
        "        \n",
        "    def forward(self, x):\n",
        "        x = self.CNN(x.unsqueeze(1))\n",
        "        x = torch.flatten(x, 1)\n",
        "        x = self.MLP(x)\n",
        "        return x"
      ]
    },
    {
      "cell_type": "code",
      "execution_count": 89,
      "metadata": {
        "id": "GLG5nxgVfGFd",
        "cellView": "form"
      },
      "outputs": [],
      "source": [
        "#@title Source: The training procedure\n",
        "# the model predicts the average - high variance\n",
        "def validate_clf(model, dataloader, device=\"cpu\", criterion = nn.CrossEntropyLoss()):\n",
        "    prediction_list, labels_list = [], []\n",
        "    model.eval()\n",
        "    loss = 0\n",
        "    with torch.no_grad():\n",
        "        for id_batch, (inputs, labels) in enumerate(dataloader):\n",
        "            inputs, labels = inputs.to(device), labels.to(device)\n",
        "            model.to(device)\n",
        "            outputs = model(inputs)\n",
        "            loss += criterion(outputs, labels).item()\n",
        "            labels = np.argmax(labels.cpu().detach().numpy(), axis=1)\n",
        "            predictions = np.argmax(outputs.cpu().detach().numpy(), axis=1)\n",
        "            prediction_list.append(predictions)\n",
        "            labels_list.append(labels)\n",
        "        loss /= id_batch # <= averaging\n",
        "    p = np.concatenate(prediction_list)\n",
        "    g = np.concatenate(labels_list)\n",
        "    acc = accuracy_score(g, p)\n",
        "    f1 = f1_score(g, p, zero_division=0, average='macro')\n",
        "    return p, g, loss, acc, f1\n",
        "\n",
        "def train_clf(model, dataloader, optimizer, criterion=nn.CrossEntropyLoss(), val_dataloader=None, patience=3, N_EPOCHS=100, device=\"cpu\", epochs_no_action=10):\n",
        "    losses, mae_losses, val_losses, train_losses = [], [], [], []\n",
        "    dataset_size = len(dataloader.dataset)\n",
        "    lowest_error = 100000\n",
        "    highest_score = 0\n",
        "    best_epoch = -1\n",
        "    \n",
        "    for epoch in range(N_EPOCHS):\n",
        "        print(f\"Epoch {epoch + 1}\\n-------------------------------\")\n",
        "        train_loss = 0\n",
        "        # Loop over batches in an epoch using DataLoader\n",
        "        for id_batch, (inputs, labels) in enumerate(dataloader):\n",
        "            model.train()\n",
        "            inputs, labels = inputs.to(device), labels.to(device)\n",
        "            outputs = model(inputs)\n",
        "            loss = criterion(outputs, labels)\n",
        "            optimizer.zero_grad()\n",
        "            loss.backward()\n",
        "            optimizer.step()\n",
        "            train_loss += loss.item()\n",
        "        train_loss /= id_batch # <= averaging\n",
        "\n",
        "        if val_dataloader is not None:\n",
        "            if (patience>0) and (epoch-best_epoch>patience-1) and epoch>epochs_no_action:\n",
        "                print(\"Max patience reached, now loading the best checkpoint...\")\n",
        "                model.load_state_dict(torch.load(\"checkpoint.pt\"))\n",
        "                print(\"Exiting...\")\n",
        "                break\n",
        "            predictions, labels, val_loss, val_acc, val_f1 = validate_clf(model, val_dataloader, device=device)\n",
        "            val_losses.append(val_loss)\n",
        "            train_losses.append(train_loss)\n",
        "            if (patience>0) and (val_f1>highest_score):\n",
        "                highest_score = val_f1\n",
        "                best_epoch = epoch\n",
        "                torch.save(model.state_dict(), \"checkpoint.pt\")\n",
        "            print(f\"Train loss: {train_loss:.2f}, Val loss: {val_loss:.2f}, Val acc: {val_acc:.2f}\") \n",
        "            print(f\"Best Epoch: {best_epoch+1} (Val F1: {highest_score:.2f})\") \n",
        "            print(f\"[val var: {np.var(predictions):.2f}, min-max: {min(predictions):.2f}-{max(predictions):.2f}, F1: {val_f1}]\")\n",
        "    model.eval()\n",
        "    return model, train_losses, val_losses"
      ]
    },
    {
      "cell_type": "code",
      "execution_count": 4,
      "metadata": {
        "id": "SIVUONhwfGFg",
        "cellView": "form"
      },
      "outputs": [],
      "source": [
        "#@title Source: The dataset wrapper\n",
        "class ImageDataset(TensorDataset):\n",
        "    def __init__(self, dataframe, transform=None):\n",
        "        self.dataframe = dataframe\n",
        "        self.transform = transform\n",
        "        self.labels = np.array(self.dataframe['date'])\n",
        "        self.labels = np.reshape(self.labels, (self.labels.shape[0], 1))\n",
        "        self.labels = OneHotEncoder(sparse_output=False).fit_transform(self.labels)\n",
        "        \n",
        "    def __len__(self):\n",
        "        return self.dataframe.shape[0]\n",
        "\n",
        "    def __getitem__(self, idx):\n",
        "        sample, date = self.dataframe.iloc[idx].img.astype(np.float32), self.labels[idx]\n",
        "        if self.transform is not None:\n",
        "            sample = self.transform(sample)\n",
        "            sample = sample.reshape(sample.shape[1], sample.shape[2]) # grayscale\n",
        "        return sample, date # 1CE-4CE"
      ]
    },
    {
      "cell_type": "code",
      "execution_count": 5,
      "metadata": {
        "id": "E5czl6aFfGFj",
        "cellView": "form"
      },
      "outputs": [],
      "source": [
        "#@title Source: Augmentation\n",
        "\n",
        "augment = transforms.Compose([\n",
        "    transforms.ToPILImage(),\n",
        "    transforms.RandomAffine(3), # turn\n",
        "    transforms.RandomResizedCrop((50, 300), scale=(0.75, 1.0), ratio=(1, 6)), # crop n scale (add scale to control this)\n",
        "    #transforms.RandomCrop((30, 30)),\n",
        "    transforms.GaussianBlur(3), # blur\n",
        "    transforms.ToTensor(),\n",
        "    transforms.RandomErasing(p=0.5, value=0.5), # erase\n",
        "])\n",
        "\n",
        "cc_transform = transforms.Compose([\n",
        "    transforms.ToPILImage(),\n",
        "    transforms.CenterCrop((50, 300)),\n",
        "    transforms.ToTensor(),\n",
        "])\n",
        "\n",
        "rs_transform = transforms.Compose([\n",
        "    transforms.ToPILImage(),\n",
        "    transforms.Resize((50,300)),\n",
        "    transforms.ToTensor(),\n",
        "])\n",
        "\n",
        "white_fragment_ablation = transforms.Compose([\n",
        "    transforms.ToPILImage(),\n",
        "    transforms.Resize((50,300)),\n",
        "    transforms.ToTensor(),\n",
        "    transforms.RandomErasing(p=1, value=0), # erase\n",
        "])\n",
        "\n",
        "black_fragment_ablation = transforms.Compose([\n",
        "    transforms.ToPILImage(),\n",
        "    transforms.Resize((50,300)),\n",
        "    transforms.ToTensor(),\n",
        "    transforms.RandomErasing(p=1, value=1), # erase\n",
        "])"
      ]
    },
    {
      "cell_type": "markdown",
      "source": [
        "### Loading the data\n",
        "* Load the data (papyri fragments)\n",
        "* Explode to lines\n",
        "* Split without leaking information about the scribe"
      ],
      "metadata": {
        "id": "ZR0nV8xMsQY1"
      }
    },
    {
      "cell_type": "code",
      "source": [
        "%%capture\n",
        "# ACTION needed: download the data (with gdown) or re-create from PaLit.xlsx\n",
        "pll = pd.read_pickle(\"pll.csv\")"
      ],
      "metadata": {
        "id": "rRTb7bHcfP-c"
      },
      "execution_count": 6,
      "outputs": []
    },
    {
      "cell_type": "code",
      "execution_count": 7,
      "metadata": {
        "id": "ihIsP-JqfGFh"
      },
      "outputs": [],
      "source": [
        "dataset = pll.explode(\"img\")\n",
        "dataset = dataset[dataset.img.notna()]"
      ]
    },
    {
      "cell_type": "code",
      "execution_count": 8,
      "metadata": {
        "colab": {
          "base_uri": "https://localhost:8080/"
        },
        "id": "Uzs2-KrnfGFi",
        "outputId": "7e5a8bf3-4f4b-485b-8838-b2633ce654ae"
      },
      "outputs": [
        {
          "output_type": "stream",
          "name": "stdout",
          "text": [
            "Lines num: 4717\n"
          ]
        }
      ],
      "source": [
        "print(\"Lines num:\", dataset.shape[0])\n",
        "\n",
        "w,h = 300,50\n",
        "img_data = pd.DataFrame(dataset.img.apply(lambda x: x.shape).tolist(), index=dataset.index, columns=[\"H\", \"W\"])\n",
        "dataset = dataset[(img_data.W>w)&(img_data.H>h)]\n",
        "dataset.insert(0, \"lid\", range(1, dataset.shape[0]+1))"
      ]
    },
    {
      "cell_type": "code",
      "source": [
        "# Data split with non-exclusive fragments between train, val, test\n",
        "#pll_train, pll_test = train_test_split(dataset, test_size=0.1, random_state=2023)\n",
        "#pll_train, pll_val = train_test_split(pll_train, test_size=pll_test.shape[0], random_state=2023)\n",
        "\n",
        "# Train, dev, test lines taken from different fragments\n",
        "testmod = 13\n",
        "pll_test = dataset[dataset.uid%testmod==0]\n",
        "pll_test, pll_val = train_test_split(pll_test, test_size=pll_test.shape[0]//2, random_state=2021)\n",
        "pll_train = dataset[dataset.uid%testmod!=0]\n",
        "\n",
        "print(pll_train.shape[0], pll_val.shape[0], pll_test.shape[0])\n",
        "pd.DataFrame({\"train\": pll_train.date.value_counts(),                \n",
        "              \"dev\": pll_val.date.value_counts(),\n",
        "              \"test\":pll_test.date.value_counts()}).plot.pie(subplots=True, autopct=f'%.1f', legend=False);\n"
      ],
      "metadata": {
        "colab": {
          "base_uri": "https://localhost:8080/",
          "height": 200
        },
        "id": "Cf8GxdDocgJm",
        "outputId": "fc19bc5f-cf53-4299-b986-b0bbb32a2de6"
      },
      "execution_count": 85,
      "outputs": [
        {
          "output_type": "stream",
          "name": "stdout",
          "text": [
            "2615 79 80\n"
          ]
        },
        {
          "output_type": "display_data",
          "data": {
            "text/plain": [
              "<Figure size 640x480 with 3 Axes>"
            ],
            "image/png": "[encoded data removed]"
          },
          "metadata": {}
        }
      ]
    },
    {
      "cell_type": "markdown",
      "source": [
        "### Training"
      ],
      "metadata": {
        "id": "_hCrimYHs90P"
      }
    },
    {
      "cell_type": "code",
      "execution_count": 91,
      "metadata": {
        "colab": {
          "base_uri": "https://localhost:8080/",
          "height": 1000
        },
        "id": "NGCQvvo9fGFl",
        "outputId": "d265ac6d-3e1b-4792-851e-d14abd2eea5c"
      },
      "outputs": [
        {
          "metadata": {
            "tags": null
          },
          "name": "stdout",
          "output_type": "stream",
          "text": [
            "Epoch 1\n",
            "-------------------------------\n",
            "Train loss: 1.22, Val loss: 1.98, Val acc: 0.38\n",
            "Best Epoch: 1 (Val F1: 0.14)\n",
            "[val var: 0.00, min-max: 2.00-2.00, F1: 0.13761467889908258]\n",
            "Epoch 2\n",
            "-------------------------------\n",
            "Train loss: 1.06, Val loss: 1.41, Val acc: 0.68\n",
            "Best Epoch: 2 (Val F1: 0.38)\n",
            "[val var: 0.24, min-max: 1.00-2.00, F1: 0.37885680379746833]\n",
            "Epoch 3\n",
            "-------------------------------\n",
            "Train loss: 1.02, Val loss: 1.67, Val acc: 0.38\n",
            "Best Epoch: 2 (Val F1: 0.38)\n",
            "[val var: 0.00, min-max: 2.00-2.00, F1: 0.13761467889908258]\n",
            "Epoch 4\n",
            "-------------------------------\n",
            "Train loss: 0.99, Val loss: 3.42, Val acc: 0.38\n",
            "Best Epoch: 2 (Val F1: 0.38)\n",
            "[val var: 0.00, min-max: 2.00-2.00, F1: 0.13761467889908258]\n",
            "Epoch 5\n",
            "-------------------------------\n",
            "Train loss: 0.96, Val loss: 1.42, Val acc: 0.58\n",
            "Best Epoch: 2 (Val F1: 0.38)\n",
            "[val var: 0.16, min-max: 1.00-2.00, F1: 0.32129032258064516]\n",
            "Epoch 6\n",
            "-------------------------------\n",
            "Train loss: 0.98, Val loss: 1.69, Val acc: 0.53\n",
            "Best Epoch: 2 (Val F1: 0.38)\n",
            "[val var: 0.13, min-max: 1.00-2.00, F1: 0.27746346063177746]\n",
            "Epoch 7\n",
            "-------------------------------\n",
            "Train loss: 0.97, Val loss: 1.89, Val acc: 0.38\n",
            "Best Epoch: 2 (Val F1: 0.38)\n",
            "[val var: 0.00, min-max: 2.00-2.00, F1: 0.13761467889908258]\n",
            "Epoch 8\n",
            "-------------------------------\n",
            "Train loss: 0.92, Val loss: 1.83, Val acc: 0.35\n",
            "Best Epoch: 2 (Val F1: 0.38)\n",
            "[val var: 0.02, min-max: 1.00-2.00, F1: 0.13084112149532712]\n",
            "Epoch 9\n",
            "-------------------------------\n",
            "Train loss: 0.92, Val loss: 1.79, Val acc: 0.38\n",
            "Best Epoch: 2 (Val F1: 0.38)\n",
            "[val var: 0.00, min-max: 2.00-2.00, F1: 0.13761467889908258]\n",
            "Epoch 10\n",
            "-------------------------------\n",
            "Train loss: 0.89, Val loss: 1.49, Val acc: 0.58\n",
            "Best Epoch: 2 (Val F1: 0.38)\n",
            "[val var: 0.23, min-max: 1.00-2.00, F1: 0.3236758263639984]\n",
            "Epoch 11\n",
            "-------------------------------\n",
            "Train loss: 0.82, Val loss: 1.98, Val acc: 0.38\n",
            "Best Epoch: 2 (Val F1: 0.38)\n",
            "[val var: 0.00, min-max: 2.00-2.00, F1: 0.13761467889908258]\n",
            "Epoch 12\n",
            "-------------------------------\n",
            "Train loss: 0.83, Val loss: 1.37, Val acc: 0.47\n",
            "Best Epoch: 2 (Val F1: 0.38)\n",
            "[val var: 0.22, min-max: 1.00-2.00, F1: 0.260593220338983]\n",
            "Epoch 13\n",
            "-------------------------------\n",
            "Train loss: 0.81, Val loss: 1.61, Val acc: 0.43\n",
            "Best Epoch: 2 (Val F1: 0.38)\n",
            "[val var: 0.24, min-max: 1.00-2.00, F1: 0.23744066455696203]\n",
            "Epoch 14\n",
            "-------------------------------\n",
            "Train loss: 0.79, Val loss: 1.48, Val acc: 0.56\n",
            "Best Epoch: 14 (Val F1: 0.47)\n",
            "[val var: 0.30, min-max: 0.00-2.00, F1: 0.4652777777777778]\n",
            "Epoch 15\n",
            "-------------------------------\n",
            "Train loss: 0.75, Val loss: 2.03, Val acc: 0.35\n",
            "Best Epoch: 14 (Val F1: 0.47)\n",
            "[val var: 0.34, min-max: 1.00-3.00, F1: 0.2779309891985949]\n",
            "Epoch 16\n",
            "-------------------------------\n",
            "Train loss: 0.71, Val loss: 2.83, Val acc: 0.32\n",
            "Best Epoch: 14 (Val F1: 0.47)\n",
            "[val var: 0.84, min-max: 0.00-3.00, F1: 0.2713222339675828]\n",
            "Epoch 17\n",
            "-------------------------------\n",
            "Train loss: 0.72, Val loss: 1.40, Val acc: 0.54\n",
            "Best Epoch: 14 (Val F1: 0.47)\n",
            "[val var: 0.21, min-max: 0.00-2.00, F1: 0.37166285278413425]\n",
            "Epoch 18\n",
            "-------------------------------\n",
            "Train loss: 0.74, Val loss: 1.61, Val acc: 0.47\n",
            "Best Epoch: 14 (Val F1: 0.47)\n",
            "[val var: 0.68, min-max: 1.00-3.00, F1: 0.3534476117103236]\n",
            "Epoch 19\n",
            "-------------------------------\n",
            "Train loss: 0.66, Val loss: 1.78, Val acc: 0.58\n",
            "Best Epoch: 14 (Val F1: 0.47)\n",
            "[val var: 0.37, min-max: 0.00-3.00, F1: 0.3323110624315444]\n",
            "Epoch 20\n",
            "-------------------------------\n",
            "Train loss: 0.63, Val loss: 1.89, Val acc: 0.47\n",
            "Best Epoch: 14 (Val F1: 0.47)\n",
            "[val var: 0.48, min-max: 0.00-3.00, F1: 0.3152472527472528]\n",
            "Epoch 21\n",
            "-------------------------------\n",
            "Train loss: 0.63, Val loss: 1.59, Val acc: 0.39\n",
            "Best Epoch: 14 (Val F1: 0.47)\n",
            "[val var: 0.88, min-max: 0.00-3.00, F1: 0.3092714424951267]\n",
            "Epoch 22\n",
            "-------------------------------\n",
            "Train loss: 0.57, Val loss: 1.34, Val acc: 0.66\n",
            "Best Epoch: 22 (Val F1: 0.48)\n",
            "[val var: 0.42, min-max: 0.00-3.00, F1: 0.4755790075641393]\n",
            "Epoch 23\n",
            "-------------------------------\n",
            "Train loss: 0.77, Val loss: 1.83, Val acc: 0.32\n",
            "Best Epoch: 22 (Val F1: 0.48)\n",
            "[val var: 1.16, min-max: 0.00-3.00, F1: 0.2469220506956356]\n",
            "Epoch 24\n",
            "-------------------------------\n",
            "Train loss: 0.71, Val loss: 1.75, Val acc: 0.28\n",
            "Best Epoch: 22 (Val F1: 0.48)\n",
            "[val var: 0.26, min-max: 1.00-3.00, F1: 0.13920454545454544]\n",
            "Epoch 25\n",
            "-------------------------------\n",
            "Train loss: 0.59, Val loss: 1.57, Val acc: 0.51\n",
            "Best Epoch: 22 (Val F1: 0.48)\n",
            "[val var: 0.29, min-max: 1.00-3.00, F1: 0.31664335664335663]\n",
            "Epoch 26\n",
            "-------------------------------\n",
            "Train loss: 0.54, Val loss: 1.41, Val acc: 0.54\n",
            "Best Epoch: 22 (Val F1: 0.48)\n",
            "[val var: 0.78, min-max: 0.00-3.00, F1: 0.46489933216688434]\n",
            "Epoch 27\n",
            "-------------------------------\n",
            "Train loss: 0.50, Val loss: 1.55, Val acc: 0.48\n",
            "Best Epoch: 22 (Val F1: 0.48)\n",
            "[val var: 0.67, min-max: 0.00-3.00, F1: 0.3619694960212202]\n",
            "Epoch 28\n",
            "-------------------------------\n",
            "Train loss: 0.48, Val loss: 1.81, Val acc: 0.57\n",
            "Best Epoch: 22 (Val F1: 0.48)\n",
            "[val var: 0.45, min-max: 0.00-2.00, F1: 0.39366846238722664]\n",
            "Epoch 29\n",
            "-------------------------------\n",
            "Train loss: 0.47, Val loss: 2.24, Val acc: 0.39\n",
            "Best Epoch: 22 (Val F1: 0.48)\n",
            "[val var: 0.48, min-max: 0.00-2.00, F1: 0.25625795122650463]\n",
            "Epoch 30\n",
            "-------------------------------\n",
            "Train loss: 0.41, Val loss: 2.43, Val acc: 0.43\n",
            "Best Epoch: 22 (Val F1: 0.48)\n",
            "[val var: 0.45, min-max: 0.00-3.00, F1: 0.29859576766337703]\n",
            "Epoch 31\n",
            "-------------------------------\n",
            "Train loss: 0.38, Val loss: 2.30, Val acc: 0.47\n",
            "Best Epoch: 22 (Val F1: 0.48)\n",
            "[val var: 0.54, min-max: 0.00-3.00, F1: 0.3097572362278245]\n",
            "Epoch 32\n",
            "-------------------------------\n",
            "Train loss: 0.33, Val loss: 2.57, Val acc: 0.52\n",
            "Best Epoch: 22 (Val F1: 0.48)\n",
            "[val var: 0.57, min-max: 0.00-3.00, F1: 0.4742889562213992]\n",
            "Epoch 33\n",
            "-------------------------------\n",
            "Train loss: 0.39, Val loss: 2.47, Val acc: 0.38\n",
            "Best Epoch: 22 (Val F1: 0.48)\n",
            "[val var: 0.82, min-max: 0.00-3.00, F1: 0.2825553945899732]\n",
            "Epoch 34\n",
            "-------------------------------\n",
            "Train loss: 0.35, Val loss: 1.99, Val acc: 0.46\n",
            "Best Epoch: 22 (Val F1: 0.48)\n",
            "[val var: 0.64, min-max: 0.00-3.00, F1: 0.3823890735655442]\n",
            "Epoch 35\n",
            "-------------------------------\n",
            "Train loss: 0.35, Val loss: 1.16, Val acc: 0.67\n",
            "Best Epoch: 35 (Val F1: 0.56)\n",
            "[val var: 0.81, min-max: 0.00-3.00, F1: 0.5576798654244307]\n",
            "Epoch 36\n",
            "-------------------------------\n",
            "Train loss: 0.44, Val loss: 1.44, Val acc: 0.68\n",
            "Best Epoch: 35 (Val F1: 0.56)\n",
            "[val var: 0.42, min-max: 0.00-3.00, F1: 0.4206439393939394]\n",
            "Epoch 37\n",
            "-------------------------------\n",
            "Train loss: 0.41, Val loss: 2.07, Val acc: 0.44\n",
            "Best Epoch: 35 (Val F1: 0.56)\n",
            "[val var: 0.37, min-max: 0.00-3.00, F1: 0.2812801640926641]\n",
            "Epoch 38\n",
            "-------------------------------\n",
            "Train loss: 0.42, Val loss: 1.80, Val acc: 0.59\n",
            "Best Epoch: 35 (Val F1: 0.56)\n",
            "[val var: 0.65, min-max: 0.00-3.00, F1: 0.47414066033469016]\n",
            "Epoch 39\n",
            "-------------------------------\n",
            "Train loss: 0.42, Val loss: 1.50, Val acc: 0.59\n",
            "Best Epoch: 35 (Val F1: 0.56)\n",
            "[val var: 0.54, min-max: 0.00-3.00, F1: 0.4690140845070422]\n",
            "Epoch 40\n",
            "-------------------------------\n",
            "Train loss: 0.35, Val loss: 2.28, Val acc: 0.52\n",
            "Best Epoch: 35 (Val F1: 0.56)\n",
            "[val var: 0.33, min-max: 0.00-3.00, F1: 0.41753606753606753]\n",
            "Epoch 41\n",
            "-------------------------------\n",
            "Train loss: 0.50, Val loss: 1.39, Val acc: 0.49\n",
            "Best Epoch: 35 (Val F1: 0.56)\n",
            "[val var: 0.41, min-max: 0.00-3.00, F1: 0.40824175824175823]\n",
            "Epoch 42\n",
            "-------------------------------\n",
            "Train loss: 0.76, Val loss: 1.71, Val acc: 0.32\n",
            "Best Epoch: 35 (Val F1: 0.56)\n",
            "[val var: 0.54, min-max: 0.00-3.00, F1: 0.24329140461215934]\n",
            "Epoch 43\n",
            "-------------------------------\n",
            "Train loss: 0.69, Val loss: 1.47, Val acc: 0.43\n",
            "Best Epoch: 35 (Val F1: 0.56)\n",
            "[val var: 0.51, min-max: 0.00-3.00, F1: 0.4310956790123457]\n",
            "Epoch 44\n",
            "-------------------------------\n",
            "Train loss: 0.80, Val loss: 1.71, Val acc: 0.43\n",
            "Best Epoch: 35 (Val F1: 0.56)\n",
            "[val var: 0.15, min-max: 0.00-2.00, F1: 0.21730055658627084]\n",
            "Epoch 45\n",
            "-------------------------------\n",
            "Train loss: 0.81, Val loss: 1.57, Val acc: 0.38\n",
            "Best Epoch: 35 (Val F1: 0.56)\n",
            "[val var: 0.36, min-max: 0.00-3.00, F1: 0.19908814589665655]\n",
            "Epoch 46\n",
            "-------------------------------\n",
            "Train loss: 0.75, Val loss: 1.46, Val acc: 0.62\n",
            "Best Epoch: 35 (Val F1: 0.56)\n",
            "[val var: 0.41, min-max: 0.00-2.00, F1: 0.3608225108225108]\n",
            "Epoch 47\n",
            "-------------------------------\n",
            "Train loss: 0.67, Val loss: 1.61, Val acc: 0.41\n",
            "Best Epoch: 35 (Val F1: 0.56)\n",
            "[val var: 1.01, min-max: 0.00-3.00, F1: 0.3919091847265222]\n",
            "Epoch 48\n",
            "-------------------------------\n",
            "Train loss: 0.61, Val loss: 1.87, Val acc: 0.41\n",
            "Best Epoch: 35 (Val F1: 0.56)\n",
            "[val var: 0.64, min-max: 0.00-2.00, F1: 0.30912698412698414]\n",
            "Epoch 49\n",
            "-------------------------------\n",
            "Train loss: 0.59, Val loss: 2.70, Val acc: 0.27\n",
            "Best Epoch: 35 (Val F1: 0.56)\n",
            "[val var: 0.76, min-max: 0.00-3.00, F1: 0.25232288037166084]\n",
            "Epoch 50\n",
            "-------------------------------\n",
            "Train loss: 0.53, Val loss: 1.68, Val acc: 0.61\n",
            "Best Epoch: 35 (Val F1: 0.56)\n",
            "[val var: 0.39, min-max: 0.00-2.00, F1: 0.5042225534028814]\n",
            "Epoch 51\n",
            "-------------------------------\n",
            "Train loss: 0.50, Val loss: 1.76, Val acc: 0.52\n",
            "Best Epoch: 35 (Val F1: 0.56)\n",
            "[val var: 0.53, min-max: 0.00-3.00, F1: 0.5264506062705093]\n",
            "Epoch 52\n",
            "-------------------------------\n",
            "Train loss: 0.47, Val loss: 1.92, Val acc: 0.52\n",
            "Best Epoch: 35 (Val F1: 0.56)\n",
            "[val var: 0.62, min-max: 0.00-2.00, F1: 0.39451710261569417]\n",
            "Epoch 53\n",
            "-------------------------------\n",
            "Train loss: 0.42, Val loss: 1.41, Val acc: 0.56\n",
            "Best Epoch: 35 (Val F1: 0.56)\n",
            "[val var: 0.68, min-max: 0.00-3.00, F1: 0.4834165834165835]\n",
            "Epoch 54\n",
            "-------------------------------\n",
            "Train loss: 0.41, Val loss: 2.09, Val acc: 0.47\n",
            "Best Epoch: 35 (Val F1: 0.56)\n",
            "[val var: 0.58, min-max: 0.00-3.00, F1: 0.39845636219104136]\n",
            "Epoch 55\n",
            "-------------------------------\n",
            "Max patience reached, now loading the best checkpoint...\n",
            "Exiting...\n"
          ]
        },
        {
          "data": {
            "text/plain": [
              "<Axes: >"
            ]
          },
          "execution_count": 91,
          "metadata": {},
          "output_type": "execute_result"
        },
        {
          "data": {
            "image/png": "[encoded data removed]",
            "text/plain": [
              "<Figure size 640x480 with 1 Axes>"
            ]
          },
          "metadata": {},
          "output_type": "display_data"
        }
      ],
      "source": [
        "epochs, batch_size, device, n_classes, lr, patience = 150, 32, \"cuda\", 4, 1e-3, 20\n",
        "dataloader = DataLoader(ImageDataset(pll_train, transform=augment), batch_size=batch_size, drop_last=False, shuffle=True)\n",
        "val_dataloader = DataLoader(ImageDataset(pll_val, transform=rs_transform), batch_size=batch_size, drop_last=False)\n",
        "model = CNNCLF(n_classes=n_classes).to(device)\n",
        "optimizer = optim.Adam(model.parameters(), lr=lr)\n",
        "model, train_losses, val_losses = train_clf(device=device, dataloader=dataloader, model=model, optimizer=optimizer, N_EPOCHS=epochs, val_dataloader=val_dataloader, patience=patience)\n",
        "pd.DataFrame({\"train\": train_losses, \"val\": [float(v) for v in val_losses]}, index=range(len(train_losses))).plot()"
      ]
    },
    {
      "cell_type": "markdown",
      "source": [
        "### Eval"
      ],
      "metadata": {
        "id": "UG17941BMSKd"
      }
    },
    {
      "cell_type": "code",
      "execution_count": 101,
      "metadata": {
        "id": "PYjU-I51fGFn",
        "outputId": "d071152d-47b6-486d-8cec-9e175e6ae781",
        "colab": {
          "base_uri": "https://localhost:8080/",
          "height": 701
        }
      },
      "outputs": [
        {
          "output_type": "stream",
          "name": "stdout",
          "text": [
            "Acc: 0.72\n",
            "              precision    recall  f1-score   support\n",
            "\n",
            "           0       0.50      0.33      0.40         3\n",
            "           1       0.80      0.75      0.77        32\n",
            "           2       0.64      0.79      0.71        29\n",
            "           3       0.83      0.62      0.71        16\n",
            "\n",
            "    accuracy                           0.73        80\n",
            "   macro avg       0.69      0.63      0.65        80\n",
            "weighted avg       0.74      0.72      0.72        80\n",
            "\n"
          ]
        },
        {
          "output_type": "display_data",
          "data": {
            "text/plain": [
              "<Figure size 640x480 with 1 Axes>"
            ],
            "image/png": "[encoded data removed]"
          },
          "metadata": {}
        }
      ],
      "source": [
        "model = CNNCLF(n_classes=n_classes).to(device)\n",
        "model.load_state_dict(torch.load(\"checkpoint.pt\"))\n",
        "\n",
        "test_loader = DataLoader(ImageDataset(pll_test, transform=rs_transform), batch_size=1)\n",
        "predictions, labels, loss, acc, f1 = validate_clf(model, test_loader)\n",
        "print(f'Acc: {acc:.2f}')\n",
        "print(classification_report(labels, predictions))\n",
        "ax = ConfusionMatrixDisplay.from_predictions(labels, predictions, colorbar=False);\n",
        "plt.tight_layout();\n",
        "ax.figure_.savefig('confusion.pdf', format='PDF', dpi=300)"
      ]
    },
    {
      "cell_type": "code",
      "source": [
        "#@title [Optional] Saving\n",
        " # saving the trained model to your drive\n",
        "from google.colab import drive\n",
        "drive.mount('/content/gdrive')\n",
        "!cp checkpoint.pt gdrive/MyDrive/fcnnc.pt \n",
        "\n",
        "# saving the data\n",
        "pll_test[pll_test.columns[:-1]].to_csv('test.csv')\n",
        "pll_train[pll_train.columns[:-1]].to_csv('train.csv')\n",
        "pll_val[pll_val.columns[:-1]].to_csv('val.csv')\n",
        "!cp test.csv gdrive/MyDrive/pll_xsplit_test.csv\n",
        "\n",
        "# Download the checkpoint\n",
        "#net = CNNCLF(4) # <-- loading\n",
        "#net.load_state_dict(torch.load(\"gdrive/MyDrive/fcnnc.pt\", map_location=torch.device('cpu')))"
      ],
      "metadata": {
        "id": "H_K8UL9rls7o",
        "colab": {
          "base_uri": "https://localhost:8080/"
        },
        "outputId": "d8eeda60-4db8-4071-d13d-4d62acbc81a6"
      },
      "execution_count": 102,
      "outputs": [
        {
          "output_type": "stream",
          "name": "stdout",
          "text": [
            "Mounted at /content/gdrive\n"
          ]
        }
      ]
    },
    {
      "cell_type": "markdown",
      "source": [
        "# Saliency"
      ],
      "metadata": {
        "id": "f-n-PM5MclNC"
      }
    },
    {
      "cell_type": "code",
      "execution_count": 103,
      "metadata": {
        "id": "frBfCDVofGFp"
      },
      "outputs": [],
      "source": [
        "# !rm -R heatmaps \n",
        "!mkdir heatmaps\n",
        "dataloader = DataLoader(ImageDataset(pll_test, transform=rs_transform), batch_size=1)\n",
        "device = 'cpu'\n",
        "criterion = nn.CrossEntropyLoss().to(device)\n",
        "model.eval()\n",
        "for batch_index, (batch, labels) in enumerate(dataloader):\n",
        "    batch = batch.to(device)\n",
        "    labels = labels.to(device)\n",
        "    batch = batch.requires_grad_(requires_grad=True)\n",
        "    \n",
        "    output = model(batch).to(device)\n",
        "    loss = criterion(output, labels)\n",
        "\n",
        "    loss.backward()\n",
        "  \n",
        "    batch_grad = batch.grad.cpu().detach().numpy()\n",
        "    batch_grad = np.squeeze(batch_grad)\n",
        "    batch_grad = np.absolute(batch_grad)\n",
        "\n",
        "    fig, axs = plt.subplots(2, 1, figsize=(10, 5))\n",
        "    axs[0].imshow(batch_grad, cmap='hot', interpolation='nearest')\n",
        "    axs[1].imshow(np.squeeze(batch.cpu().detach().numpy()), cmap='gray')\n",
        "\n",
        "    # plt.colorbar()\n",
        "    plt.savefig(f'./heatmaps/heatmap_{batch_index:d}-DATE:{pll.iloc[batch_index].date}-PRED:{np.argmax(output.detach(), 1)}')\n",
        "    plt.close()"
      ]
    },
    {
      "cell_type": "markdown",
      "source": [
        "# Ablation\n",
        "* Using the fragmentation-based augmentation to patch with black and white boxes."
      ],
      "metadata": {
        "id": "avUDfJGteEdD"
      }
    },
    {
      "cell_type": "code",
      "source": [
        "# black box patch (the name is mistaken in the lib)\n",
        "!mkdir ablations\n",
        "dataloader = DataLoader(ImageDataset(pll_test.iloc[:batch_size], transform=white_fragment_ablation), batch_size=1)\n",
        "device = 'cpu'\n",
        "criterion = nn.CrossEntropyLoss().to(device)\n",
        "model.eval()\n",
        "for batch_index, (batch, labels) in enumerate(dataloader):\n",
        "    batch = batch.to(device)\n",
        "    labels = labels.to(device)\n",
        "    batch = batch.requires_grad_(requires_grad=True)\n",
        "    \n",
        "    output = model(batch).to(device)\n",
        "    loss = criterion(output, labels)\n",
        "\n",
        "    loss.backward()\n",
        "  \n",
        "    batch_grad = batch.grad.cpu().detach().numpy()\n",
        "    batch_grad = np.squeeze(batch_grad)\n",
        "    batch_grad = np.absolute(batch_grad)\n",
        "\n",
        "    fig, axs = plt.subplots(2, 1, figsize=(10, 5))\n",
        "    axs[0].imshow(batch_grad, cmap='hot', interpolation='nearest')\n",
        "    axs[1].imshow(np.squeeze(batch.cpu().detach().numpy()), cmap='gray')\n",
        "\n",
        "    plt.savefig(f'./ablations/black_{batch_index:d}-DATE:{pll.iloc[batch_index].date}-PRED:{np.argmax(output.detach(), 1)}')\n",
        "    plt.close()\n"
      ],
      "metadata": {
        "id": "XNLqe-_rYvpI"
      },
      "execution_count": null,
      "outputs": []
    },
    {
      "cell_type": "code",
      "source": [
        "dataloader = DataLoader(ImageDataset(pll_test.iloc[:batch_size], transform=black_fragment_ablation), batch_size=1)\n",
        "device = 'cpu'\n",
        "criterion = nn.CrossEntropyLoss().to(device)\n",
        "model.eval()\n",
        "for batch_index, (batch, labels) in enumerate(dataloader):\n",
        "    batch = batch.to(device)\n",
        "    labels = labels.to(device)\n",
        "    batch = batch.requires_grad_(requires_grad=True)\n",
        "    \n",
        "    output = model(batch).to(device)\n",
        "    loss = criterion(output, labels)\n",
        "\n",
        "    loss.backward()\n",
        "  \n",
        "    batch_grad = batch.grad.cpu().detach().numpy()\n",
        "    batch_grad = np.squeeze(batch_grad)\n",
        "    batch_grad = np.absolute(batch_grad)\n",
        "\n",
        "    fig, axs = plt.subplots(2, 1, figsize=(10, 5))\n",
        "    axs[0].imshow(batch_grad, cmap='hot', interpolation='nearest')\n",
        "    axs[1].imshow(np.squeeze(batch.cpu().detach().numpy()), cmap='gray')\n",
        "\n",
        "    plt.savefig(f'./ablations/white_{batch_index:d}-DATE:{pll.iloc[batch_index].date}-PRED:{np.argmax(output.detach(), 1)}')\n",
        "    plt.close()"
      ],
      "metadata": {
        "id": "MCROu5CCa7ll"
      },
      "execution_count": 106,
      "outputs": []
    },
    {
      "cell_type": "code",
      "source": [
        "%%capture\n",
        "!zip heatmap.zip heatmaps/*\n",
        "!zip ablations.zip ablations/* "
      ],
      "metadata": {
        "id": "pcn6kufbcCCp"
      },
      "execution_count": 107,
      "outputs": []
    },
    {
      "cell_type": "markdown",
      "source": [
        "# Dating papyri of the 2nd or 3rd CE "
      ],
      "metadata": {
        "id": "RuL95UUTgKhW"
      }
    },
    {
      "cell_type": "code",
      "source": [
        "# ACTION needed: download the data (with gdown) or re-create using PaLit.xlsx  # the image lines in doubt\n",
        "doubtful = pd.read_pickle(\"doubted.csv\")\n",
        "label_map = {'\"-1/1\"':0, \"-1/1\":0, \"2,3\":2.5, \"3,4\":3.5, \"5,6\":5.5, \"6,7\":6.5}\n",
        "doubtful.date = doubtful.date.apply(lambda x: label_map[x] if x in label_map else x)"
      ],
      "metadata": {
        "id": "7Lwc_jlCf2HU",
        "outputId": "14f5b793-a1be-40da-ee90-7454935abbf5",
        "colab": {
          "base_uri": "https://localhost:8080/"
        }
      },
      "execution_count": 108,
      "outputs": [
        {
          "output_type": "stream",
          "name": "stdout",
          "text": [
            "Downloading...\n",
            "From: https://drive.google.com/uc?id=1majEsBvm_pAyTtHqSGHpI3vnXLViiI5f\n",
            "To: /content/doubted.csv\n",
            "100% 1.70G/1.70G [01:15<00:00, 22.6MB/s]\n"
          ]
        }
      ]
    },
    {
      "cell_type": "code",
      "source": [
        "d = doubtful[doubtful.date==2.5]\n",
        "w,h = 300,50\n",
        "img_data = pd.DataFrame(d.img.apply(lambda x: x.shape).tolist(), index=d.index, columns=[\"H\", \"W\"])\n",
        "d = d[(img_data.W>w)&(img_data.H>h)]"
      ],
      "metadata": {
        "id": "74RY0i7If7w3"
      },
      "execution_count": 109,
      "outputs": []
    },
    {
      "cell_type": "code",
      "source": [
        "def predict(model, dataloader, device=\"cpu\"):\n",
        "  predictions = []\n",
        "  model.eval()\n",
        "  with torch.no_grad():\n",
        "      for id_batch, (inputs, labels) in enumerate(dataloader):\n",
        "          inputs = inputs.to(device)\n",
        "          outputs = model(inputs)\n",
        "          predictions.append(outputs.cpu().numpy()[0])\n",
        "  return predictions \n",
        "\n",
        "test_loader = DataLoader(ImageDataset(d, transform=rs_transform), batch_size=1)\n",
        "predictions = predict(model, test_loader)\n",
        "d.insert(6, \"CE\", predictions)\n",
        "d.insert(0, \"Papyrus\", d.filename_enc.apply(lambda x: x.split(\"_\")[1].replace(\".jpg\", \"\").replace(\".png\", \"\").replace(\"picture\", \"\").replace(\"(1)\", \"\")))"
      ],
      "metadata": {
        "id": "otm3ZzJvf-xd"
      },
      "execution_count": 111,
      "outputs": []
    },
    {
      "cell_type": "code",
      "source": [
        "# we could visualise the probability (one per line) per papyrus (11 in total)\n",
        "import seaborn as sns; sns.set_theme('paper'); \n",
        "#sns.set(rc={'figure.figsize':(15,5)})\n",
        "softmax = lambda x: np.exp(x) / np.sum(np.exp(x), axis=0)\n",
        "papyri = list(d.Papyrus.unique())\n",
        "estimations = pd.DataFrame(d.CE.apply(softmax).apply(pd.Series))\n",
        "estimations['Papyrus'] = d.Papyrus\n",
        "g = estimations.groupby('Papyrus')\n",
        "gg = pd.DataFrame()\n",
        "gg['1CE'] = g[0].apply(np.mean)\n",
        "gg['2CE'] = g[1].apply(np.mean)\n",
        "gg['3CE'] = g[2].apply(np.mean)\n",
        "gg['4CE'] = g[3].apply(np.mean)\n",
        "sns.set_style()\n",
        "ax = gg.plot.bar(figsize=(12,4), colormap='Blues', rot=0);\n",
        "plt.tight_layout()\n",
        "ax.figure.savefig('undated.pdf', format='PDF', dpi=300)"
      ],
      "metadata": {
        "id": "cpQY1Ie8f_PA",
        "outputId": "0736236f-f0ec-4136-c8c7-24afe43ca615",
        "colab": {
          "base_uri": "https://localhost:8080/",
          "height": 408
        }
      },
      "execution_count": 112,
      "outputs": [
        {
          "output_type": "display_data",
          "data": {
            "text/plain": [
              "<Figure size 1200x400 with 1 Axes>"
            ],
            "image/png": "[encoded data removed]"
          },
          "metadata": {}
        }
      ]
    },
    {
      "cell_type": "code",
      "source": [],
      "metadata": {
        "id": "aAid-3ATgHPb"
      },
      "execution_count": null,
      "outputs": []
    }
  ],
  "metadata": {
    "kernelspec": {
      "display_name": "Python 3",
      "name": "python3"
    },
    "language_info": {
      "codemirror_mode": {
        "name": "ipython",
        "version": 3
      },
      "file_extension": ".py",
      "mimetype": "text/x-python",
      "name": "python",
      "nbconvert_exporter": "python",
      "pygments_lexer": "ipython3",
      "version": "3.10.9"
    },
    "colab": {
      "provenance": [],
      "gpuType": "T4",
      "machine_shape": "hm",
      "collapsed_sections": [
        "ZR0nV8xMsQY1",
        "f-n-PM5MclNC",
        "avUDfJGteEdD"
      ],
      "include_colab_link": true
    },
    "accelerator": "GPU"
  },
  "nbformat": 4,
  "nbformat_minor": 0
}
