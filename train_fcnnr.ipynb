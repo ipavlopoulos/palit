{
  "nbformat": 4,
  "nbformat_minor": 0,
  "metadata": {
    "colab": {
      "provenance": [],
      "machine_shape": "hm",
      "gpuType": "T4",
      "authorship_tag": "ABX9TyPrLLda7hrA3IbwEp0/pi2a",
      "include_colab_link": true
    },
    "kernelspec": {
      "name": "python3",
      "display_name": "Python 3"
    },
    "language_info": {
      "name": "python"
    },
    "accelerator": "GPU"
  },
  "cells": [
    {
      "cell_type": "markdown",
      "metadata": {
        "id": "view-in-github",
        "colab_type": "text"
      },
      "source": [
        "<a href=\"https://colab.research.google.com/github/ipavlopoulos/palit/blob/main/train_fcnnr.ipynb\" target=\"_parent\"><img src=\"https://colab.research.google.com/assets/colab-badge.svg\" alt=\"Open In Colab\"/></a>"
      ]
    },
    {
      "cell_type": "code",
      "source": [
        "#@title Source code\n",
        "import torch\n",
        "import torch.nn.functional as F\n",
        "import torch.nn as nn\n",
        "import torch.optim as optim\n",
        "from torchvision import transforms\n",
        "from torch.utils.data import DataLoader\n",
        "from torch.utils.data import Dataset, TensorDataset\n",
        "\n",
        "import numpy as np\n",
        "import pandas as pd\n",
        "import matplotlib.pyplot as plt\n",
        "import seaborn as sns\n",
        "import skimage\n",
        "from skimage import transform\n",
        "from sklearn.model_selection import train_test_split\n",
        "from sklearn.preprocessing import OneHotEncoder\n",
        "from sklearn.metrics import *\n",
        "from sklearn.model_selection import GroupShuffleSplit, train_test_split\n",
        "from sklearn.metrics import confusion_matrix\n",
        "import xgboost as xgb \n",
        "\n",
        "from tqdm.notebook import tqdm\n",
        "import os\n",
        "import random\n",
        "class FCNNR(nn.Module):\n",
        "    def __init__(self):\n",
        "        super().__init__()\n",
        "        self.conv1 = nn.Conv2d(1, 32, 5, stride=1, padding=0)\n",
        "        self.norm1 =  nn.BatchNorm2d(32)\n",
        "        self.conv2 = nn.Conv2d(32, 64, 5)\n",
        "        self.norm2 = nn.BatchNorm2d(64)\n",
        "        self.pool = nn.MaxPool2d(2, 2)\n",
        "        self.fc1 = nn.Linear(41472, 1024, bias=True) # 108928 if the 2nd ConvNet is active\n",
        "        self.norm3 = nn.BatchNorm1d(1024)\n",
        "        self.fc2 = nn.Linear(1024, 512, bias=True)\n",
        "        self.norm4 = nn.BatchNorm1d(512)\n",
        "        self.dropout = nn.Dropout(0.1)\n",
        "        self.fc3 = nn.Linear(512, 1, bias=True) # regression output\n",
        "\n",
        "    def forward(self, x):\n",
        "        x = self.pool(self.norm1(F.relu(self.conv1(x.unsqueeze(1)))))\n",
        "        x = self.pool(self.norm2(F.relu(self.conv2(x))))\n",
        "        x = torch.flatten(x, 1) # flatten all dimensions except batch\n",
        "        x = self.norm3(F.relu(self.fc1(x)))\n",
        "        x = self.norm4(F.relu(self.fc2(x)))\n",
        "        #x = self.dropout(x) # our augmentation is competitive to dropout at the input (yet locally coherent)\n",
        "        x = self.fc3(x)\n",
        "        return x\n",
        "\n",
        "# the model predicts the average - high variance\n",
        "def validate(model, dataloader, device=\"cpu\"):\n",
        "    predictions, gold_labels = [], []\n",
        "    with torch.no_grad():\n",
        "        for id_batch, (inputs, labels) in enumerate(dataloader):\n",
        "            inputs, labels = inputs.to(device), labels.to(device)\n",
        "            model.eval()\n",
        "            model.to(device)\n",
        "            outputs = model(inputs)\n",
        "            predictions.extend(outputs.cpu().numpy()[:, 0])\n",
        "            gold_labels.extend(labels.cpu())\n",
        "    return predictions, gold_labels\n",
        "\n",
        "def train(model, dataloader, optimizer, criterion, val_dataloader=None, patience=3, val_metric = mean_absolute_error, n_print=10, N_EPOCHS=4, device=\"cpu\"):\n",
        "    losses, mae_losses, val_losses, train_losses = [], [], [], []\n",
        "    dataset_size = len(dataloader.dataset)\n",
        "    lowest_error = 100000\n",
        "    best_epoch = -1\n",
        "    for epoch in range(N_EPOCHS):\n",
        "        print(f\"Epoch {epoch + 1}\\n-------------------------------\")\n",
        "\n",
        "        # Loop over batches in an epoch using DataLoader\n",
        "        for id_batch, (inputs, labels) in enumerate(dataloader):\n",
        "            model.train()\n",
        "            inputs, labels = inputs.to(device), labels.float().flatten().to(device)\n",
        "            outputs = model(inputs).flatten()\n",
        "            loss = criterion(outputs, labels)\n",
        "            optimizer.zero_grad()\n",
        "            loss.backward()\n",
        "            optimizer.step()\n",
        "\n",
        "            # Print the loss for this batch (every n batches, plus the # examples)\n",
        "            if id_batch % n_print == 0:\n",
        "                loss, current = loss.item(), (id_batch + 1) * len(inputs)\n",
        "                losses.append(loss)\n",
        "                mae = nn.L1Loss()\n",
        "                mae_loss = mae(outputs, labels)\n",
        "                mae_losses.append(mae_loss)\n",
        "                print(f\"loss: {loss:.2f} (@all: {np.mean(losses):.2f}) mae: {mae_loss:.2f}  [{current:>2d}/{dataset_size:>2d}]\")\n",
        "\n",
        "        if val_dataloader is not None:\n",
        "            if (patience>0) and (epoch-best_epoch>patience-1):\n",
        "                print(\"Max patience reached, now loading the best checkpoint...\")\n",
        "                model.load_state_dict(torch.load(\"checkpoint.pt\"))\n",
        "                print(\"Exiting...\")\n",
        "                break\n",
        "            predictions, labels = validate(model, val_dataloader, device=device)\n",
        "            val_error = val_metric(predictions, labels)\n",
        "            train_predictions, train_labels = validate(model, dataloader, device=device)\n",
        "            train_error = val_metric(train_predictions, train_labels)\n",
        "            val_losses.append(val_error)\n",
        "            train_losses.append(train_error)\n",
        "            if (patience>0) and (val_error<lowest_error):\n",
        "                lowest_error = val_error\n",
        "                best_epoch = epoch\n",
        "                torch.save(model.state_dict(), \"checkpoint.pt\")\n",
        "            print(f\"Train loss: {train_error:.2f}, Val loss: {val_error:.2f}, Best Epoch: {best_epoch+1} (Val loss: {lowest_error:.2f}) [val var: {np.var(predictions):.2f}, min-max: {min(predictions):.2f}-{max(predictions):.2f}]\")\n",
        "    return losses, mae_losses, train_losses, val_losses\n",
        "\n",
        "class ImageDataset(TensorDataset):\n",
        "    def __init__(self, dataframe, transform=None):\n",
        "        self.dataframe = dataframe\n",
        "        self.transform = transform\n",
        "\n",
        "    def __len__(self):\n",
        "        return self.dataframe.shape[0]\n",
        "\n",
        "    def __getitem__(self, idx):\n",
        "        sample, date = self.dataframe.iloc[idx].img.astype(np.float32), self.dataframe.iloc[idx].date\n",
        "        if self.transform is not None:\n",
        "            sample = self.transform(sample)\n",
        "            sample = sample.reshape(sample.shape[1], sample.shape[2]) # grayscale\n",
        "        return sample, date # 1CE-4CE\n",
        "\n",
        "\n",
        "augment = transforms.Compose([\n",
        "    transforms.ToPILImage(),\n",
        "    transforms.RandomAffine(3), # turn\n",
        "    transforms.RandomResizedCrop((50, 300), scale=(0.75, 1.0), ratio=(1, 6)), # crop n scale (add scale to control this)\n",
        "    #transforms.RandomCrop((30, 30)),\n",
        "    transforms.GaussianBlur(3), # blur\n",
        "    transforms.ToTensor(),\n",
        "    transforms.RandomErasing(p=0.5, value=0.5), # erase\n",
        "])\n",
        "\n",
        "cc_transform = transforms.Compose([\n",
        "    transforms.ToPILImage(),\n",
        "    transforms.CenterCrop((50, 300)),\n",
        "    transforms.ToTensor(),\n",
        "])\n",
        "\n",
        "rs_transform = transforms.Compose([\n",
        "    transforms.ToPILImage(),\n",
        "    transforms.Resize((50,300)),\n",
        "    transforms.ToTensor(),\n",
        "])"
      ],
      "metadata": {
        "cellView": "form",
        "id": "Pn4kSnIY_MIA"
      },
      "execution_count": 1,
      "outputs": []
    },
    {
      "cell_type": "markdown",
      "source": [
        "# Data loading"
      ],
      "metadata": {
        "id": "K4K1uC9o3SaO"
      }
    },
    {
      "cell_type": "code",
      "source": [
        "%%capture\n",
        "!gdown 1kNgqJCFZS4Q-P2YSaeaYp9P2bTobyOCV\n",
        "pll = pd.read_pickle(\"pll.csv\")"
      ],
      "metadata": {
        "id": "dDK56sDS29zI"
      },
      "execution_count": 2,
      "outputs": []
    },
    {
      "cell_type": "code",
      "source": [
        "dataset = pll.explode(\"img\")\n",
        "dataset = dataset[dataset.img.notna()]\n",
        "print(\"Lines num:\", dataset.shape[0])\n",
        "w,h = 300,50\n",
        "img_data = pd.DataFrame(dataset.img.apply(lambda x: x.shape).tolist(), index=dataset.index, columns=[\"H\", \"W\"])\n",
        "dataset = dataset[(img_data.W>w)&(img_data.H>h)]\n",
        "dataset.insert(0, \"lid\", range(1, dataset.shape[0]+1))"
      ],
      "metadata": {
        "colab": {
          "base_uri": "https://localhost:8080/"
        },
        "id": "IiyA3HYP3Irk",
        "outputId": "f59e0962-2479-43dc-fba0-06c59b2f4d99"
      },
      "execution_count": 3,
      "outputs": [
        {
          "output_type": "stream",
          "name": "stdout",
          "text": [
            "Lines num: 4717\n"
          ]
        }
      ]
    },
    {
      "cell_type": "code",
      "source": [
        "# Data split with non-exclusive fragments between train, val, test\n",
        "pll_train, pll_test = train_test_split(dataset, test_size=0.1, random_state=2023)\n",
        "pll_train, pll_val = train_test_split(pll_train, test_size=pll_test.shape[0], random_state=2023)\n",
        "\n",
        "print(pll_train.shape[0], pll_val.shape[0], pll_test.shape[0])\n",
        "pd.DataFrame({\"train\": pll_train.date.value_counts(),                \n",
        "              \"dev\": pll_val.date.value_counts(),\n",
        "              \"test\":pll_test.date.value_counts()}).plot.pie(subplots=True, autopct=f'%.1f', legend=False);\n"
      ],
      "metadata": {
        "colab": {
          "base_uri": "https://localhost:8080/",
          "height": 200
        },
        "id": "EY6fI6P03PNE",
        "outputId": "dd133d60-036c-4533-c819-79119cd685a0"
      },
      "execution_count": 4,
      "outputs": [
        {
          "output_type": "stream",
          "name": "stdout",
          "text": [
            "2218 278 278\n"
          ]
        },
        {
          "output_type": "display_data",
          "data": {
            "text/plain": [
              "<Figure size 640x480 with 3 Axes>"
            ],
            "image/png": "[encoded data removed]"
          },
          "metadata": {}
        }
      ]
    },
    {
      "cell_type": "markdown",
      "source": [
        "# Training"
      ],
      "metadata": {
        "id": "kVMG389DIMhB"
      }
    },
    {
      "cell_type": "code",
      "source": [
        "device = \"cuda\" if torch.cuda.is_available() else \"cpu\"\n",
        "fcnn = FCNNR().to(device)\n",
        "mse_loss, mae_loss, train_losses, val_losses = train(fcnn,\n",
        "                                                     DataLoader(ImageDataset(pll_train, transform=augment), batch_size=32, shuffle=True, drop_last=False),\n",
        "                                                     optimizer=optim.Adam(fcnn.parameters(), lr=1e-3, weight_decay=1e-5),\n",
        "                                                     criterion=nn.SmoothL1Loss(),\n",
        "                                                     N_EPOCHS=200,\n",
        "                                                     device=device,\n",
        "                                                     val_metric=mean_squared_error,\n",
        "                                                     patience=20,\n",
        "                                                     val_dataloader=DataLoader(ImageDataset(pll_val, transform=rs_transform), batch_size=32, drop_last=False)\n",
        "                                                     )\n",
        "\n",
        "torch.save(fcnn.state_dict(), \"checkpoint.pt\")\n",
        "print(f\"Parameters: {nn.utils.parameters_to_vector(fcnn.parameters()).numel():.1f}\")\n",
        "fcnn.eval()\n",
        "pd.DataFrame({\"train\": train_losses, \"val\": [float(v) for v in val_losses]}, index=range(len(train_losses))).plot();"
      ],
      "metadata": {
        "colab": {
          "base_uri": "https://localhost:8080/"
        },
        "id": "IWTaINXc3Qud",
        "outputId": "730de498-699a-49e4-bdee-ebb9842c21ce"
      },
      "execution_count": null,
      "outputs": [
        {
          "output_type": "stream",
          "name": "stdout",
          "text": [
            "Epoch 1\n",
            "-------------------------------\n",
            "loss: 1.99 (@all: 1.99) mae: 2.48  [32/2218]\n",
            "loss: 1.86 (@all: 1.92) mae: 2.34  [352/2218]\n",
            "loss: 1.59 (@all: 1.81) mae: 2.08  [672/2218]\n",
            "loss: 1.72 (@all: 1.79) mae: 2.21  [992/2218]\n",
            "loss: 1.51 (@all: 1.73) mae: 1.98  [1312/2218]\n",
            "loss: 1.14 (@all: 1.63) mae: 1.62  [1632/2218]\n",
            "loss: 0.90 (@all: 1.53) mae: 1.34  [1952/2218]\n",
            "Train loss: 1.89, Val loss: 1.97, Best Epoch: 1 (Val loss: 1.97) [val var: 0.28, min-max: 0.68-3.40]\n",
            "Epoch 2\n",
            "-------------------------------\n",
            "loss: 0.70 (@all: 1.43) mae: 1.11  [32/2218]\n",
            "loss: 0.48 (@all: 1.32) mae: 0.90  [352/2218]\n",
            "loss: 0.63 (@all: 1.25) mae: 1.00  [672/2218]\n",
            "loss: 0.28 (@all: 1.16) mae: 0.63  [992/2218]\n",
            "loss: 0.19 (@all: 1.08) mae: 0.55  [1312/2218]\n",
            "loss: 0.43 (@all: 1.03) mae: 0.83  [1632/2218]\n",
            "loss: 0.19 (@all: 0.97) mae: 0.58  [1952/2218]\n",
            "Train loss: 0.64, Val loss: 0.61, Best Epoch: 2 (Val loss: 0.61) [val var: 0.02, min-max: 1.54-2.50]\n",
            "Epoch 3\n",
            "-------------------------------\n",
            "loss: 0.47 (@all: 0.94) mae: 0.89  [32/2218]\n",
            "loss: 0.26 (@all: 0.90) mae: 0.65  [352/2218]\n",
            "loss: 0.31 (@all: 0.86) mae: 0.69  [672/2218]\n",
            "loss: 0.31 (@all: 0.83) mae: 0.69  [992/2218]\n",
            "loss: 0.30 (@all: 0.80) mae: 0.67  [1312/2218]\n",
            "loss: 0.27 (@all: 0.78) mae: 0.60  [1632/2218]\n"
          ]
        }
      ]
    },
    {
      "cell_type": "markdown",
      "source": [
        "# Evaluation"
      ],
      "metadata": {
        "id": "MEWoDiSxI8zW"
      }
    },
    {
      "cell_type": "code",
      "source": [
        "predictions, labels = validate(fcnn, DataLoader(ImageDataset(pll_test, transform=rs_transform), batch_size=1), device=\"cpu\")\n",
        "print(\"Test loss\", nn.L1Loss()(torch.Tensor(predictions), torch.Tensor(labels)).numpy())\n",
        "pll_test[\"cnn\"] = predictions\n",
        "print(f\"Predictions from: {pll_test.cnn.min():.2f} to {pll_test.cnn.max():.2f}, Var: {pll_test.cnn.var():.2f}\")\n",
        "print(f\"MAE: {mean_absolute_error(labels, predictions):g}\")\n",
        "print(f\"MSE: {mean_squared_error(labels, predictions):g}\")\n",
        "\n",
        "gold_lbls = [int(l.numpy()) for l in labels]\n",
        "pred_lbls = [int(p) for p in predictions]\n",
        "print(classification_report(gold_lbls, pred_lbls))\n",
        "ax = ConfusionMatrixDisplay.from_predictions(gold_lbls, pred_lbls, colorbar=False);\n",
        "plt.tight_layout(); ax.figure_.savefig('confusion_fcnnr.pdf', format='PDF', dpi=300)"
      ],
      "metadata": {
        "id": "4FBKhrXh4mxF"
      },
      "execution_count": null,
      "outputs": []
    },
    {
      "cell_type": "code",
      "source": [],
      "metadata": {
        "id": "CWpEayqw-RrB"
      },
      "execution_count": null,
      "outputs": []
    }
  ]
}