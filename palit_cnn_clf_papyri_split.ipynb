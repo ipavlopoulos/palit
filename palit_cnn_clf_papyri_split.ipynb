{
  "cells": [
    {
      "cell_type": "markdown",
      "metadata": {
        "id": "view-in-github",
        "colab_type": "text"
      },
      "source": [
        "<a href=\"https://colab.research.google.com/github/ipavlopoulos/palit/blob/main/palit_cnn_clf_papyri_split.ipynb\" target=\"_parent\"><img src=\"https://colab.research.google.com/assets/colab-badge.svg\" alt=\"Open In Colab\"/></a>"
      ]
    },
    {
      "cell_type": "markdown",
      "metadata": {
        "id": "xHAsYxZ1fGFT"
      },
      "source": [
        "# fCNNc \n",
        "* A CNN classifier using a fragmentation-based augmentation strategy\n",
        "* Train/val/test split respects the information about the papyri the lines were taken from, avoiding data leaking "
      ]
    },
    {
      "cell_type": "code",
      "execution_count": 1,
      "metadata": {
        "id": "adMNIwDMfGFX",
        "cellView": "form"
      },
      "outputs": [],
      "source": [
        "#@title Importing\n",
        "import torch\n",
        "import torch.nn.functional as F\n",
        "import torch.nn as nn\n",
        "import torch.optim as optim\n",
        "from torchvision import transforms\n",
        "from torch.utils.data import DataLoader\n",
        "from torch.utils.data import Dataset, TensorDataset\n",
        "\n",
        "import numpy as np\n",
        "import pandas as pd\n",
        "import matplotlib.pyplot as plt\n",
        "import seaborn as sns\n",
        "import skimage\n",
        "from skimage import transform\n",
        "from sklearn.model_selection import train_test_split\n",
        "from sklearn.preprocessing import OneHotEncoder\n",
        "from sklearn.metrics import *\n",
        "from sklearn.model_selection import GroupShuffleSplit, train_test_split\n",
        "from sklearn.metrics import confusion_matrix\n",
        "import xgboost as xgb \n",
        "\n",
        "from tqdm.notebook import tqdm\n",
        "import os\n",
        "import random"
      ]
    },
    {
      "cell_type": "code",
      "execution_count": 2,
      "metadata": {
        "id": "t25ICipDfGFc",
        "cellView": "form"
      },
      "outputs": [],
      "source": [
        "#@title Source: The architecture\n",
        "\n",
        "class CNNCLF(nn.Module):\n",
        "    def __init__(self, n_classes):\n",
        "        super().__init__()\n",
        "\n",
        "        self.CNN = nn.Sequential(\n",
        "            nn.Conv2d(1, 32, kernel_size=5, stride=1, padding=0),\n",
        "            nn.ReLU(inplace=True),\n",
        "            nn.MaxPool2d(2, 2),\n",
        "            nn.BatchNorm2d(32),\n",
        "            \n",
        "            nn.Conv2d(32, 64, kernel_size=5),\n",
        "            nn.ReLU(inplace=True),\n",
        "            nn.BatchNorm2d(64),\n",
        "            nn.MaxPool2d(2, 2),\n",
        "        )\n",
        "        \n",
        "        self.MLP = nn.Sequential(\n",
        "            nn.Linear(41472, 1024, bias=True),\n",
        "            nn.ReLU(inplace=True),\n",
        "            nn.BatchNorm1d(1024),\n",
        "            nn.Dropout(p=0.1, inplace=True),\n",
        "            \n",
        "            nn.Linear(1024, 512, bias=True),\n",
        "            nn.ReLU(inplace=True),\n",
        "            nn.BatchNorm1d(512),\n",
        "            nn.Dropout(p=0.1, inplace=True),\n",
        "            \n",
        "            nn.Linear(512, n_classes, bias=True)\n",
        "        )\n",
        "        \n",
        "    def forward(self, x):\n",
        "        x = self.CNN(x.unsqueeze(1))\n",
        "        x = torch.flatten(x, 1)\n",
        "        x = self.MLP(x)\n",
        "        return x"
      ]
    },
    {
      "cell_type": "code",
      "execution_count": 3,
      "metadata": {
        "id": "GLG5nxgVfGFd",
        "cellView": "form"
      },
      "outputs": [],
      "source": [
        "#@title Source: The training procedure\n",
        "# the model predicts the average - high variance\n",
        "def validate_clf(model, dataloader, device=\"cpu\", criterion = nn.CrossEntropyLoss()):\n",
        "    prediction_list, labels_list = [], []\n",
        "    model.eval()\n",
        "    loss = 0\n",
        "    with torch.no_grad():\n",
        "        for id_batch, (inputs, labels) in enumerate(dataloader):\n",
        "            inputs, labels = inputs.to(device), labels.to(device)\n",
        "            model.to(device)\n",
        "            outputs = model(inputs)\n",
        "            loss += criterion(outputs, labels).item()\n",
        "            labels = np.argmax(labels.cpu().detach().numpy(), axis=1)\n",
        "            predictions = np.argmax(outputs.cpu().detach().numpy(), axis=1)\n",
        "            prediction_list.append(predictions)\n",
        "            labels_list.append(labels)\n",
        "    p = np.concatenate(prediction_list)\n",
        "    g = np.concatenate(labels_list)\n",
        "    acc = accuracy_score(g, p)\n",
        "    return p, g, loss, acc\n",
        "\n",
        "def train_clf(model, dataloader, optimizer, criterion=nn.CrossEntropyLoss(), val_dataloader=None, patience=3, N_EPOCHS=100, device=\"cpu\"):\n",
        "    losses, mae_losses, val_losses, train_losses = [], [], [], []\n",
        "    dataset_size = len(dataloader.dataset)\n",
        "    lowest_error = 100000\n",
        "    best_epoch = -1\n",
        "    \n",
        "    for epoch in range(N_EPOCHS):\n",
        "        print(f\"Epoch {epoch + 1}\\n-------------------------------\")\n",
        "        train_loss = 0\n",
        "        # Loop over batches in an epoch using DataLoader\n",
        "        for id_batch, (inputs, labels) in enumerate(dataloader):\n",
        "            model.train()\n",
        "            inputs, labels = inputs.to(device), labels.to(device)\n",
        "            outputs = model(inputs)\n",
        "            loss = criterion(outputs, labels)\n",
        "            optimizer.zero_grad()\n",
        "            loss.backward()\n",
        "            optimizer.step()\n",
        "            train_loss += loss.item()\n",
        "\n",
        "        if val_dataloader is not None:\n",
        "            if (patience>0) and (epoch-best_epoch>patience-1) and epoch > 50:\n",
        "                print(\"Max patience reached, now loading the best checkpoint...\")\n",
        "                model.load_state_dict(torch.load(\"checkpoint.pt\"))\n",
        "                print(\"Exiting...\")\n",
        "                break\n",
        "            predictions, labels, val_loss, val_acc = validate_clf(model, val_dataloader, device=device)\n",
        "            val_losses.append(val_loss)\n",
        "            train_losses.append(train_loss)\n",
        "            if (patience>0) and (val_loss<lowest_error):\n",
        "                lowest_error = val_loss\n",
        "                best_epoch = epoch\n",
        "                torch.save(model.state_dict(), \"checkpoint.pt\")\n",
        "            print(f\"Train loss: {train_loss:.2f}, Val loss: {val_loss:.2f}, Val acc: {val_acc:.2f}\") \n",
        "            print(f\"Best Epoch: {best_epoch+1} (Val loss: {lowest_error:.2f})\") \n",
        "            print(f\"[val var: {np.var(predictions):.2f}, min-max: {min(predictions):.2f}-{max(predictions):.2f}]\")\n",
        "    model.eval()\n",
        "    return model, train_losses, val_losses"
      ]
    },
    {
      "cell_type": "code",
      "execution_count": 4,
      "metadata": {
        "id": "SIVUONhwfGFg",
        "cellView": "form"
      },
      "outputs": [],
      "source": [
        "#@title Source: The dataset wrapper\n",
        "class ImageDataset(TensorDataset):\n",
        "    def __init__(self, dataframe, transform=None):\n",
        "        self.dataframe = dataframe\n",
        "        self.transform = transform\n",
        "        self.labels = np.array(self.dataframe['date'])\n",
        "        self.labels = np.reshape(self.labels, (self.labels.shape[0], 1))\n",
        "        self.labels = OneHotEncoder(sparse=False).fit_transform(self.labels)\n",
        "        \n",
        "    def __len__(self):\n",
        "        return self.dataframe.shape[0]\n",
        "\n",
        "    def __getitem__(self, idx):\n",
        "        sample, date = self.dataframe.iloc[idx].img.astype(np.float32), self.labels[idx]\n",
        "        if self.transform is not None:\n",
        "            sample = self.transform(sample)\n",
        "            sample = sample.reshape(sample.shape[1], sample.shape[2]) # grayscale\n",
        "        return sample, date # 1CE-4CE"
      ]
    },
    {
      "cell_type": "code",
      "execution_count": 31,
      "metadata": {
        "id": "E5czl6aFfGFj",
        "cellView": "form"
      },
      "outputs": [],
      "source": [
        "#@title Source: Augmentation\n",
        "\n",
        "augment = transforms.Compose([\n",
        "    transforms.ToPILImage(),\n",
        "    transforms.RandomAffine(3), # turn\n",
        "    transforms.RandomResizedCrop((50, 300), scale=(0.75, 1.0), ratio=(1, 6)), # crop n scale (add scale to control this)\n",
        "    #transforms.RandomCrop((30, 30)),\n",
        "    transforms.GaussianBlur(3), # blur\n",
        "    transforms.ToTensor(),\n",
        "    transforms.RandomErasing(p=0.5, value=0.5), # erase\n",
        "])\n",
        "\n",
        "cc_transform = transforms.Compose([\n",
        "    transforms.ToPILImage(),\n",
        "    transforms.CenterCrop((50, 300)),\n",
        "    transforms.ToTensor(),\n",
        "])\n",
        "\n",
        "rs_transform = transforms.Compose([\n",
        "    transforms.ToPILImage(),\n",
        "    transforms.Resize((50,300)),\n",
        "    transforms.ToTensor(),\n",
        "])\n",
        "\n",
        "white_fragment_ablation = transforms.Compose([\n",
        "    transforms.ToPILImage(),\n",
        "    transforms.Resize((50,300)),\n",
        "    transforms.ToTensor(),\n",
        "    transforms.RandomErasing(p=1, value=0), # erase\n",
        "])\n",
        "\n",
        "black_fragment_ablation = transforms.Compose([\n",
        "    transforms.ToPILImage(),\n",
        "    transforms.Resize((50,300)),\n",
        "    transforms.ToTensor(),\n",
        "    transforms.RandomErasing(p=1, value=1), # erase\n",
        "])"
      ]
    },
    {
      "cell_type": "markdown",
      "source": [
        "### Loading the data\n",
        "* Load the data (papyri fragments)\n",
        "* Explode to lines\n",
        "* Split without leaking information about the scribe"
      ],
      "metadata": {
        "id": "ZR0nV8xMsQY1"
      }
    },
    {
      "cell_type": "code",
      "source": [
        "%%capture\n",
        "!gdown 1kNgqJCFZS4Q-P2YSaeaYp9P2bTobyOCV\n",
        "pll = pd.read_pickle(\"pll.csv\")"
      ],
      "metadata": {
        "id": "rRTb7bHcfP-c"
      },
      "execution_count": 5,
      "outputs": []
    },
    {
      "cell_type": "code",
      "execution_count": 6,
      "metadata": {
        "id": "ihIsP-JqfGFh"
      },
      "outputs": [],
      "source": [
        "dataset = pll.explode(\"img\")\n",
        "dataset = dataset[dataset.img.notna()]"
      ]
    },
    {
      "cell_type": "code",
      "execution_count": 8,
      "metadata": {
        "colab": {
          "base_uri": "https://localhost:8080/"
        },
        "id": "Uzs2-KrnfGFi",
        "outputId": "99c4e1a4-55c6-463f-9da5-20a3871c6404"
      },
      "outputs": [
        {
          "output_type": "stream",
          "name": "stdout",
          "text": [
            "Lines num: 4717\n"
          ]
        }
      ],
      "source": [
        "print(\"Lines num:\", dataset.shape[0])\n",
        "\n",
        "w,h = 300,50\n",
        "img_data = pd.DataFrame(dataset.img.apply(lambda x: x.shape).tolist(), index=dataset.index, columns=[\"H\", \"W\"])\n",
        "dataset = dataset[(img_data.W>w)&(img_data.H>h)]\n",
        "dataset.insert(0, \"lid\", range(1, dataset.shape[0]+1))"
      ]
    },
    {
      "cell_type": "code",
      "source": [
        "#pll_train, pll_test = train_test_split(dataset, test_size=0.1, random_state=2023)\n",
        "#pll_train, pll_val = train_test_split(pll_train, test_size=pll_test.shape[0], random_state=2023)\n",
        "\n",
        "pll_test = dataset[dataset.uid%3==0].sample(200)\n",
        "pll_train = dataset[~dataset.lid.isin(pll_test.lid.values)]\n",
        "pll_val = pll_train[pll_train.uid%3==0].sample(100)\n",
        "pll_train = pll_train[~pll_train.lid.isin(pll_val.lid.values)]\n",
        "\n",
        "print(pll_train.shape[0], pll_val.shape[0], pll_test.shape[0])"
      ],
      "metadata": {
        "colab": {
          "base_uri": "https://localhost:8080/"
        },
        "id": "Cf8GxdDocgJm",
        "outputId": "0f68b2f5-74ac-4564-c069-0eba5be162d2"
      },
      "execution_count": 25,
      "outputs": [
        {
          "output_type": "stream",
          "name": "stdout",
          "text": [
            "2474 100 200\n"
          ]
        }
      ]
    },
    {
      "cell_type": "markdown",
      "source": [
        "### Training"
      ],
      "metadata": {
        "id": "_hCrimYHs90P"
      }
    },
    {
      "cell_type": "code",
      "execution_count": 32,
      "metadata": {
        "colab": {
          "base_uri": "https://localhost:8080/"
        },
        "id": "NGCQvvo9fGFl",
        "outputId": "2f4294af-e470-4def-a572-509dac628d50"
      },
      "outputs": [
        {
          "output_type": "stream",
          "name": "stderr",
          "text": [
            "/usr/local/lib/python3.10/dist-packages/sklearn/preprocessing/_encoders.py:868: FutureWarning: `sparse` was renamed to `sparse_output` in version 1.2 and will be removed in 1.4. `sparse_output` is ignored unless you leave `sparse` to its default value.\n",
            "  warnings.warn(\n",
            "/usr/local/lib/python3.10/dist-packages/sklearn/preprocessing/_encoders.py:868: FutureWarning: `sparse` was renamed to `sparse_output` in version 1.2 and will be removed in 1.4. `sparse_output` is ignored unless you leave `sparse` to its default value.\n",
            "  warnings.warn(\n"
          ]
        },
        {
          "output_type": "stream",
          "name": "stdout",
          "text": [
            "Epoch 1\n",
            "-------------------------------\n",
            "Train loss: 185.48, Val loss: 12.92, Val acc: 0.40\n",
            "Best Epoch: 1 (Val loss: 12.92)\n",
            "[val var: 0.00, min-max: 1.00-1.00]\n",
            "Epoch 2\n",
            "-------------------------------\n",
            "Train loss: 167.46, Val loss: 10.16, Val acc: 0.40\n",
            "Best Epoch: 2 (Val loss: 10.16)\n",
            "[val var: 0.00, min-max: 1.00-1.00]\n",
            "Epoch 3\n",
            "-------------------------------\n",
            "Train loss: 160.71, Val loss: 7.64, Val acc: 0.50\n",
            "Best Epoch: 3 (Val loss: 7.64)\n",
            "[val var: 0.24, min-max: 1.00-2.00]\n",
            "Epoch 4\n",
            "-------------------------------\n",
            "Train loss: 155.28, Val loss: 7.33, Val acc: 0.50\n",
            "Best Epoch: 4 (Val loss: 7.33)\n",
            "[val var: 0.22, min-max: 1.00-2.00]\n",
            "Epoch 5\n",
            "-------------------------------\n",
            "Train loss: 158.81, Val loss: 8.77, Val acc: 0.37\n",
            "Best Epoch: 4 (Val loss: 7.33)\n",
            "[val var: 0.11, min-max: 1.00-2.00]\n",
            "Epoch 6\n",
            "-------------------------------\n",
            "Train loss: 154.98, Val loss: 8.30, Val acc: 0.51\n",
            "Best Epoch: 4 (Val loss: 7.33)\n",
            "[val var: 0.14, min-max: 1.00-2.00]\n",
            "Epoch 7\n",
            "-------------------------------\n",
            "Train loss: 149.99, Val loss: 7.15, Val acc: 0.46\n",
            "Best Epoch: 7 (Val loss: 7.15)\n",
            "[val var: 0.19, min-max: 0.00-2.00]\n",
            "Epoch 8\n",
            "-------------------------------\n",
            "Train loss: 151.13, Val loss: 9.58, Val acc: 0.42\n",
            "Best Epoch: 7 (Val loss: 7.15)\n",
            "[val var: 0.09, min-max: 1.00-2.00]\n",
            "Epoch 9\n",
            "-------------------------------\n",
            "Train loss: 149.39, Val loss: 7.24, Val acc: 0.42\n",
            "Best Epoch: 7 (Val loss: 7.15)\n",
            "[val var: 0.26, min-max: 0.00-2.00]\n",
            "Epoch 10\n",
            "-------------------------------\n",
            "Train loss: 142.95, Val loss: 7.68, Val acc: 0.44\n",
            "Best Epoch: 7 (Val loss: 7.15)\n",
            "[val var: 0.29, min-max: 0.00-2.00]\n",
            "Epoch 11\n",
            "-------------------------------\n",
            "Train loss: 138.09, Val loss: 7.81, Val acc: 0.45\n",
            "Best Epoch: 7 (Val loss: 7.15)\n",
            "[val var: 0.27, min-max: 0.00-2.00]\n",
            "Epoch 12\n",
            "-------------------------------\n",
            "Train loss: 132.73, Val loss: 7.61, Val acc: 0.44\n",
            "Best Epoch: 7 (Val loss: 7.15)\n",
            "[val var: 0.06, min-max: 1.00-2.00]\n",
            "Epoch 13\n",
            "-------------------------------\n",
            "Train loss: 127.90, Val loss: 7.38, Val acc: 0.43\n",
            "Best Epoch: 7 (Val loss: 7.15)\n",
            "[val var: 0.18, min-max: 1.00-2.00]\n",
            "Epoch 14\n",
            "-------------------------------\n",
            "Train loss: 119.97, Val loss: 6.83, Val acc: 0.45\n",
            "Best Epoch: 14 (Val loss: 6.83)\n",
            "[val var: 0.61, min-max: 0.00-3.00]\n",
            "Epoch 15\n",
            "-------------------------------\n",
            "Train loss: 119.45, Val loss: 6.53, Val acc: 0.48\n",
            "Best Epoch: 15 (Val loss: 6.53)\n",
            "[val var: 0.27, min-max: 0.00-2.00]\n",
            "Epoch 16\n",
            "-------------------------------\n",
            "Train loss: 113.90, Val loss: 6.70, Val acc: 0.55\n",
            "Best Epoch: 15 (Val loss: 6.53)\n",
            "[val var: 0.86, min-max: 0.00-3.00]\n",
            "Epoch 17\n",
            "-------------------------------\n",
            "Train loss: 108.30, Val loss: 6.07, Val acc: 0.60\n",
            "Best Epoch: 17 (Val loss: 6.07)\n",
            "[val var: 0.52, min-max: 0.00-3.00]\n",
            "Epoch 18\n",
            "-------------------------------\n",
            "Train loss: 103.56, Val loss: 6.08, Val acc: 0.57\n",
            "Best Epoch: 17 (Val loss: 6.07)\n",
            "[val var: 0.46, min-max: 0.00-3.00]\n",
            "Epoch 19\n",
            "-------------------------------\n",
            "Train loss: 99.01, Val loss: 5.95, Val acc: 0.61\n",
            "Best Epoch: 19 (Val loss: 5.95)\n",
            "[val var: 0.51, min-max: 0.00-3.00]\n",
            "Epoch 20\n",
            "-------------------------------\n",
            "Train loss: 94.13, Val loss: 6.33, Val acc: 0.54\n",
            "Best Epoch: 19 (Val loss: 5.95)\n",
            "[val var: 0.35, min-max: 0.00-2.00]\n",
            "Epoch 21\n",
            "-------------------------------\n",
            "Train loss: 90.28, Val loss: 5.69, Val acc: 0.57\n",
            "Best Epoch: 21 (Val loss: 5.69)\n",
            "[val var: 0.51, min-max: 0.00-3.00]\n",
            "Epoch 22\n",
            "-------------------------------\n",
            "Train loss: 81.50, Val loss: 5.77, Val acc: 0.59\n",
            "Best Epoch: 21 (Val loss: 5.69)\n",
            "[val var: 0.62, min-max: 0.00-3.00]\n",
            "Epoch 23\n",
            "-------------------------------\n",
            "Train loss: 80.72, Val loss: 6.43, Val acc: 0.59\n",
            "Best Epoch: 21 (Val loss: 5.69)\n",
            "[val var: 0.55, min-max: 0.00-3.00]\n",
            "Epoch 24\n",
            "-------------------------------\n",
            "Train loss: 80.49, Val loss: 5.21, Val acc: 0.66\n",
            "Best Epoch: 24 (Val loss: 5.21)\n",
            "[val var: 0.63, min-max: 0.00-3.00]\n",
            "Epoch 25\n",
            "-------------------------------\n",
            "Train loss: 71.04, Val loss: 6.49, Val acc: 0.56\n",
            "Best Epoch: 24 (Val loss: 5.21)\n",
            "[val var: 0.47, min-max: 0.00-3.00]\n",
            "Epoch 26\n",
            "-------------------------------\n",
            "Train loss: 69.71, Val loss: 7.23, Val acc: 0.55\n",
            "Best Epoch: 24 (Val loss: 5.21)\n",
            "[val var: 0.37, min-max: 0.00-3.00]\n",
            "Epoch 27\n",
            "-------------------------------\n",
            "Train loss: 66.29, Val loss: 6.37, Val acc: 0.59\n",
            "Best Epoch: 24 (Val loss: 5.21)\n",
            "[val var: 0.45, min-max: 0.00-3.00]\n",
            "Epoch 28\n",
            "-------------------------------\n",
            "Train loss: 66.65, Val loss: 7.37, Val acc: 0.53\n",
            "Best Epoch: 24 (Val loss: 5.21)\n",
            "[val var: 0.40, min-max: 0.00-2.00]\n",
            "Epoch 29\n",
            "-------------------------------\n",
            "Train loss: 114.07, Val loss: 8.85, Val acc: 0.45\n",
            "Best Epoch: 24 (Val loss: 5.21)\n",
            "[val var: 0.15, min-max: 0.00-2.00]\n",
            "Epoch 30\n",
            "-------------------------------\n",
            "Train loss: 128.69, Val loss: 6.28, Val acc: 0.54\n",
            "Best Epoch: 24 (Val loss: 5.21)\n",
            "[val var: 0.48, min-max: 0.00-2.00]\n",
            "Epoch 31\n",
            "-------------------------------\n",
            "Train loss: 125.03, Val loss: 7.53, Val acc: 0.37\n",
            "Best Epoch: 24 (Val loss: 5.21)\n",
            "[val var: 0.42, min-max: 0.00-2.00]\n",
            "Epoch 32\n",
            "-------------------------------\n",
            "Train loss: 124.79, Val loss: 7.43, Val acc: 0.48\n",
            "Best Epoch: 24 (Val loss: 5.21)\n",
            "[val var: 0.29, min-max: 0.00-2.00]\n",
            "Epoch 33\n",
            "-------------------------------\n",
            "Train loss: 104.82, Val loss: 5.95, Val acc: 0.59\n",
            "Best Epoch: 24 (Val loss: 5.21)\n",
            "[val var: 0.48, min-max: 0.00-3.00]\n",
            "Epoch 34\n",
            "-------------------------------\n",
            "Train loss: 88.28, Val loss: 5.45, Val acc: 0.60\n",
            "Best Epoch: 24 (Val loss: 5.21)\n",
            "[val var: 0.63, min-max: 0.00-3.00]\n",
            "Epoch 35\n",
            "-------------------------------\n",
            "Train loss: 79.03, Val loss: 5.23, Val acc: 0.61\n",
            "Best Epoch: 24 (Val loss: 5.21)\n",
            "[val var: 0.57, min-max: 0.00-3.00]\n",
            "Epoch 36\n",
            "-------------------------------\n",
            "Train loss: 69.52, Val loss: 5.76, Val acc: 0.65\n",
            "Best Epoch: 24 (Val loss: 5.21)\n",
            "[val var: 0.53, min-max: 0.00-3.00]\n",
            "Epoch 37\n",
            "-------------------------------\n",
            "Train loss: 68.02, Val loss: 4.80, Val acc: 0.72\n",
            "Best Epoch: 37 (Val loss: 4.80)\n",
            "[val var: 0.81, min-max: 0.00-3.00]\n",
            "Epoch 38\n",
            "-------------------------------\n",
            "Train loss: 63.76, Val loss: 5.63, Val acc: 0.68\n",
            "Best Epoch: 37 (Val loss: 4.80)\n",
            "[val var: 0.62, min-max: 0.00-3.00]\n",
            "Epoch 39\n",
            "-------------------------------\n",
            "Train loss: 60.32, Val loss: 6.67, Val acc: 0.69\n",
            "Best Epoch: 37 (Val loss: 4.80)\n",
            "[val var: 0.46, min-max: 0.00-3.00]\n",
            "Epoch 40\n",
            "-------------------------------\n",
            "Train loss: 56.08, Val loss: 6.06, Val acc: 0.61\n",
            "Best Epoch: 37 (Val loss: 4.80)\n",
            "[val var: 0.57, min-max: 0.00-3.00]\n",
            "Epoch 41\n",
            "-------------------------------\n",
            "Train loss: 61.96, Val loss: 6.46, Val acc: 0.64\n",
            "Best Epoch: 37 (Val loss: 4.80)\n",
            "[val var: 0.64, min-max: 0.00-3.00]\n",
            "Epoch 42\n",
            "-------------------------------\n",
            "Train loss: 53.54, Val loss: 5.27, Val acc: 0.66\n",
            "Best Epoch: 37 (Val loss: 4.80)\n",
            "[val var: 0.53, min-max: 0.00-3.00]\n",
            "Epoch 43\n",
            "-------------------------------\n",
            "Train loss: 54.62, Val loss: 6.07, Val acc: 0.60\n",
            "Best Epoch: 37 (Val loss: 4.80)\n",
            "[val var: 0.61, min-max: 0.00-3.00]\n",
            "Epoch 44\n",
            "-------------------------------\n",
            "Train loss: 47.78, Val loss: 5.71, Val acc: 0.70\n",
            "Best Epoch: 37 (Val loss: 4.80)\n",
            "[val var: 0.64, min-max: 0.00-3.00]\n",
            "Epoch 45\n",
            "-------------------------------\n",
            "Train loss: 54.17, Val loss: 7.42, Val acc: 0.62\n",
            "Best Epoch: 37 (Val loss: 4.80)\n",
            "[val var: 0.52, min-max: 0.00-3.00]\n",
            "Epoch 46\n",
            "-------------------------------\n",
            "Train loss: 53.34, Val loss: 4.71, Val acc: 0.75\n",
            "Best Epoch: 46 (Val loss: 4.71)\n",
            "[val var: 0.71, min-max: 0.00-3.00]\n",
            "Epoch 47\n",
            "-------------------------------\n",
            "Train loss: 63.85, Val loss: 5.56, Val acc: 0.70\n",
            "Best Epoch: 46 (Val loss: 4.71)\n",
            "[val var: 0.51, min-max: 0.00-3.00]\n",
            "Epoch 48\n",
            "-------------------------------\n",
            "Train loss: 57.95, Val loss: 6.17, Val acc: 0.65\n",
            "Best Epoch: 46 (Val loss: 4.71)\n",
            "[val var: 0.47, min-max: 0.00-3.00]\n",
            "Epoch 49\n",
            "-------------------------------\n",
            "Train loss: 69.92, Val loss: 5.14, Val acc: 0.70\n",
            "Best Epoch: 46 (Val loss: 4.71)\n",
            "[val var: 0.62, min-max: 0.00-3.00]\n",
            "Epoch 50\n",
            "-------------------------------\n",
            "Train loss: 58.68, Val loss: 6.72, Val acc: 0.62\n",
            "Best Epoch: 46 (Val loss: 4.71)\n",
            "[val var: 0.59, min-max: 0.00-3.00]\n",
            "Epoch 51\n",
            "-------------------------------\n",
            "Train loss: 54.20, Val loss: 5.47, Val acc: 0.68\n",
            "Best Epoch: 46 (Val loss: 4.71)\n",
            "[val var: 0.73, min-max: 0.00-3.00]\n",
            "Epoch 52\n",
            "-------------------------------\n",
            "Train loss: 52.46, Val loss: 5.90, Val acc: 0.65\n",
            "Best Epoch: 46 (Val loss: 4.71)\n",
            "[val var: 0.66, min-max: 0.00-3.00]\n",
            "Epoch 53\n",
            "-------------------------------\n",
            "Train loss: 43.68, Val loss: 5.44, Val acc: 0.66\n",
            "Best Epoch: 46 (Val loss: 4.71)\n",
            "[val var: 0.65, min-max: 0.00-3.00]\n",
            "Epoch 54\n",
            "-------------------------------\n",
            "Train loss: 47.67, Val loss: 4.80, Val acc: 0.73\n",
            "Best Epoch: 46 (Val loss: 4.71)\n",
            "[val var: 0.70, min-max: 0.00-3.00]\n",
            "Epoch 55\n",
            "-------------------------------\n",
            "Train loss: 47.47, Val loss: 5.91, Val acc: 0.69\n",
            "Best Epoch: 46 (Val loss: 4.71)\n",
            "[val var: 0.57, min-max: 0.00-3.00]\n",
            "Epoch 56\n",
            "-------------------------------\n",
            "Max patience reached, now loading the best checkpoint...\n",
            "Exiting...\n"
          ]
        }
      ],
      "source": [
        "epochs, batch_size, device, n_classes, lr, patience = 150, 16, \"cuda\", 4, 1e-3, 10\n",
        "dataloader = DataLoader(ImageDataset(pll_train, transform=augment), batch_size=batch_size, drop_last=False, shuffle=True)\n",
        "val_dataloader = DataLoader(ImageDataset(pll_val, transform=rs_transform), batch_size=batch_size, drop_last=False)\n",
        "model = CNNCLF(n_classes=n_classes).to(device)\n",
        "optimizer = optim.Adam(model.parameters(), lr=lr)\n",
        "model, train_losses, val_losses = train_clf(device=device, dataloader=dataloader, model=model, optimizer=optimizer, N_EPOCHS=epochs, val_dataloader=val_dataloader, patience=patience)"
      ]
    },
    {
      "cell_type": "markdown",
      "source": [
        "### Eval"
      ],
      "metadata": {
        "id": "UG17941BMSKd"
      }
    },
    {
      "cell_type": "code",
      "execution_count": 33,
      "metadata": {
        "id": "jNBWoxpZfGFm",
        "colab": {
          "base_uri": "https://localhost:8080/",
          "height": 447
        },
        "outputId": "ac710af9-e2e1-4639-f0e8-1e03f3ac0636"
      },
      "outputs": [
        {
          "output_type": "execute_result",
          "data": {
            "text/plain": [
              "<Axes: >"
            ]
          },
          "metadata": {},
          "execution_count": 33
        },
        {
          "output_type": "display_data",
          "data": {
            "text/plain": [
              "<Figure size 640x480 with 1 Axes>"
            ],
            "image/png": "[encoded data removed]"
          },
          "metadata": {}
        }
      ],
      "source": [
        "pd.DataFrame({\"train\": train_losses, \"val\": [float(v) for v in val_losses]}, index=range(len(train_losses))).plot()"
      ]
    },
    {
      "cell_type": "code",
      "execution_count": 42,
      "metadata": {
        "id": "PYjU-I51fGFn",
        "outputId": "dceba965-3994-4aca-c070-a26167d4d369",
        "colab": {
          "base_uri": "https://localhost:8080/",
          "height": 695
        }
      },
      "outputs": [
        {
          "output_type": "stream",
          "name": "stdout",
          "text": [
            "Acc: 0.68\n",
            "              precision    recall  f1-score   support\n",
            "\n",
            "           0       0.53      0.36      0.43        28\n",
            "           1       0.80      0.80      0.80        97\n",
            "           2       0.63      0.69      0.66        61\n",
            "           3       0.31      0.36      0.33        14\n",
            "\n",
            "    accuracy                           0.68       200\n",
            "   macro avg       0.57      0.55      0.55       200\n",
            "weighted avg       0.67      0.68      0.67       200\n",
            "\n"
          ]
        },
        {
          "output_type": "display_data",
          "data": {
            "text/plain": [
              "<Figure size 640x480 with 1 Axes>"
            ],
            "image/png": "[encoded data removed]"
          },
          "metadata": {}
        }
      ],
      "source": [
        "test_loader = DataLoader(ImageDataset(pll_test, transform=rs_transform), batch_size=1)\n",
        "predictions, labels, loss, acc = validate_clf(model, test_loader)\n",
        "print(f'Acc: {acc:.2f}')\n",
        "print(classification_report(labels, predictions))\n",
        "ax = ConfusionMatrixDisplay.from_predictions(labels, predictions, colorbar=False);\n",
        "plt.tight_layout();\n",
        "ax.figure_.savefig('confusion.pdf', format='PDF', dpi=300)"
      ]
    },
    {
      "cell_type": "code",
      "source": [
        "#@title [Optional] Saving\n",
        " # saving the trained model to your drive\n",
        "from google.colab import drive\n",
        "drive.mount('/content/gdrive')\n",
        "!cp checkpoint.pt gdrive/MyDrive/fcnn_clf.pt \n",
        "#net = CNNCLF(4) # <-- loading\n",
        "#net.load_state_dict(torch.load(\"gdrive/MyDrive/fcnn_clf.pt\", map_location=torch.device('cpu')))\n",
        "\n",
        "# saving the data\n",
        "pll_test[pll_test.columns[:-1]].to_csv('test.csv')\n",
        "pll_train[pll_train.columns[:-1]].to_csv('train.csv')\n",
        "pll_val[pll_val.columns[:-1]].to_csv('val.csv')"
      ],
      "metadata": {
        "cellView": "form",
        "id": "H_K8UL9rls7o"
      },
      "execution_count": 44,
      "outputs": []
    },
    {
      "cell_type": "markdown",
      "source": [
        "# Saliency"
      ],
      "metadata": {
        "id": "f-n-PM5MclNC"
      }
    },
    {
      "cell_type": "code",
      "execution_count": 35,
      "metadata": {
        "id": "frBfCDVofGFp"
      },
      "outputs": [],
      "source": [
        "# !rm -R heatmaps \n",
        "!mkdir heatmaps\n",
        "dataloader = DataLoader(ImageDataset(pll_test, transform=rs_transform), batch_size=1)\n",
        "device = 'cpu'\n",
        "criterion = nn.CrossEntropyLoss().to(device)\n",
        "model.eval()\n",
        "for batch_index, (batch, labels) in enumerate(dataloader):\n",
        "    batch = batch.to(device)\n",
        "    labels = labels.to(device)\n",
        "    batch = batch.requires_grad_(requires_grad=True)\n",
        "    \n",
        "    output = model(batch).to(device)\n",
        "    loss = criterion(output, labels)\n",
        "\n",
        "    loss.backward()\n",
        "  \n",
        "    batch_grad = batch.grad.cpu().detach().numpy()\n",
        "    batch_grad = np.squeeze(batch_grad)\n",
        "    batch_grad = np.absolute(batch_grad)\n",
        "\n",
        "    fig, axs = plt.subplots(2, 1, figsize=(10, 5))\n",
        "    axs[0].imshow(batch_grad, cmap='hot', interpolation='nearest')\n",
        "    axs[1].imshow(np.squeeze(batch.cpu().detach().numpy()), cmap='gray')\n",
        "\n",
        "    # plt.colorbar()\n",
        "    plt.savefig(f'./heatmaps/heatmap_{batch_index:d}-DATE:{pll.iloc[batch_index].date}-PRED:{np.argmax(output.detach(), 1)}')\n",
        "    plt.close()"
      ]
    },
    {
      "cell_type": "markdown",
      "source": [
        "# Ablation\n",
        "* Using the fragmentation-based augmentation to patch with black and white boxes."
      ],
      "metadata": {
        "id": "avUDfJGteEdD"
      }
    },
    {
      "cell_type": "code",
      "source": [
        "# black box patch (the name is mistaken in the lib)\n",
        "!mkdir ablations\n",
        "dataloader = DataLoader(ImageDataset(pll_test.iloc[:batch_size], transform=white_fragment_ablation), batch_size=1)\n",
        "device = 'cpu'\n",
        "criterion = nn.CrossEntropyLoss().to(device)\n",
        "model.eval()\n",
        "for batch_index, (batch, labels) in enumerate(dataloader):\n",
        "    batch = batch.to(device)\n",
        "    labels = labels.to(device)\n",
        "    batch = batch.requires_grad_(requires_grad=True)\n",
        "    \n",
        "    output = model(batch).to(device)\n",
        "    loss = criterion(output, labels)\n",
        "\n",
        "    loss.backward()\n",
        "  \n",
        "    batch_grad = batch.grad.cpu().detach().numpy()\n",
        "    batch_grad = np.squeeze(batch_grad)\n",
        "    batch_grad = np.absolute(batch_grad)\n",
        "\n",
        "    fig, axs = plt.subplots(2, 1, figsize=(10, 5))\n",
        "    axs[0].imshow(batch_grad, cmap='hot', interpolation='nearest')\n",
        "    axs[1].imshow(np.squeeze(batch.cpu().detach().numpy()), cmap='gray')\n",
        "\n",
        "    plt.savefig(f'./ablations/black_{batch_index:d}-DATE:{pll.iloc[batch_index].date}-PRED:{np.argmax(output.detach(), 1)}')\n",
        "    plt.close()"
      ],
      "metadata": {
        "colab": {
          "base_uri": "https://localhost:8080/"
        },
        "id": "XNLqe-_rYvpI",
        "outputId": "80f84a6b-978d-4ee4-b056-8018f4417df7"
      },
      "execution_count": 36,
      "outputs": [
        {
          "output_type": "stream",
          "name": "stderr",
          "text": [
            "/usr/local/lib/python3.10/dist-packages/sklearn/preprocessing/_encoders.py:868: FutureWarning: `sparse` was renamed to `sparse_output` in version 1.2 and will be removed in 1.4. `sparse_output` is ignored unless you leave `sparse` to its default value.\n",
            "  warnings.warn(\n"
          ]
        }
      ]
    },
    {
      "cell_type": "code",
      "source": [
        "dataloader = DataLoader(ImageDataset(pll_test.iloc[:batch_size], transform=black_fragment_ablation), batch_size=1)\n",
        "device = 'cpu'\n",
        "criterion = nn.CrossEntropyLoss().to(device)\n",
        "model.eval()\n",
        "for batch_index, (batch, labels) in enumerate(dataloader):\n",
        "    batch = batch.to(device)\n",
        "    labels = labels.to(device)\n",
        "    batch = batch.requires_grad_(requires_grad=True)\n",
        "    \n",
        "    output = model(batch).to(device)\n",
        "    loss = criterion(output, labels)\n",
        "\n",
        "    loss.backward()\n",
        "  \n",
        "    batch_grad = batch.grad.cpu().detach().numpy()\n",
        "    batch_grad = np.squeeze(batch_grad)\n",
        "    batch_grad = np.absolute(batch_grad)\n",
        "\n",
        "    fig, axs = plt.subplots(2, 1, figsize=(10, 5))\n",
        "    axs[0].imshow(batch_grad, cmap='hot', interpolation='nearest')\n",
        "    axs[1].imshow(np.squeeze(batch.cpu().detach().numpy()), cmap='gray')\n",
        "\n",
        "    plt.savefig(f'./ablations/white_{batch_index:d}-DATE:{pll.iloc[batch_index].date}-PRED:{np.argmax(output.detach(), 1)}')\n",
        "    plt.close()"
      ],
      "metadata": {
        "colab": {
          "base_uri": "https://localhost:8080/"
        },
        "id": "MCROu5CCa7ll",
        "outputId": "c64ef838-3f7d-4d40-ab00-8d8b2893814a"
      },
      "execution_count": 37,
      "outputs": [
        {
          "output_type": "stream",
          "name": "stderr",
          "text": [
            "/usr/local/lib/python3.10/dist-packages/sklearn/preprocessing/_encoders.py:868: FutureWarning: `sparse` was renamed to `sparse_output` in version 1.2 and will be removed in 1.4. `sparse_output` is ignored unless you leave `sparse` to its default value.\n",
            "  warnings.warn(\n"
          ]
        }
      ]
    },
    {
      "cell_type": "code",
      "source": [
        "%%capture\n",
        "!zip heatmap.zip heatmaps/*\n",
        "!zip ablations.zip ablations/* "
      ],
      "metadata": {
        "id": "pcn6kufbcCCp"
      },
      "execution_count": null,
      "outputs": []
    },
    {
      "cell_type": "code",
      "source": [],
      "metadata": {
        "id": "3TadeOTekb6y"
      },
      "execution_count": null,
      "outputs": []
    }
  ],
  "metadata": {
    "kernelspec": {
      "display_name": "Python 3",
      "name": "python3"
    },
    "language_info": {
      "codemirror_mode": {
        "name": "ipython",
        "version": 3
      },
      "file_extension": ".py",
      "mimetype": "text/x-python",
      "name": "python",
      "nbconvert_exporter": "python",
      "pygments_lexer": "ipython3",
      "version": "3.10.9"
    },
    "colab": {
      "provenance": [],
      "gpuType": "T4",
      "machine_shape": "hm",
      "collapsed_sections": [
        "ZR0nV8xMsQY1",
        "f-n-PM5MclNC",
        "avUDfJGteEdD"
      ],
      "include_colab_link": true
    },
    "accelerator": "GPU"
  },
  "nbformat": 4,
  "nbformat_minor": 0
}