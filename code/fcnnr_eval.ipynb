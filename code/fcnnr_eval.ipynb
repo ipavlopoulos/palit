{
  "nbformat": 4,
  "nbformat_minor": 0,
  "metadata": {
    "colab": {
      "provenance": [],
      "authorship_tag": "ABX9TyPoiQwiTsScLkTgz4jXwceD",
      "include_colab_link": true
    },
    "kernelspec": {
      "name": "python3",
      "display_name": "Python 3"
    },
    "language_info": {
      "name": "python"
    }
  },
  "cells": [
    {
      "cell_type": "markdown",
      "metadata": {
        "id": "view-in-github",
        "colab_type": "text"
      },
      "source": [
        "<a href=\"https://colab.research.google.com/github/ipavlopoulos/palit/blob/main/code/fcnnr_eval.ipynb\" target=\"_parent\"><img src=\"https://colab.research.google.com/assets/colab-badge.svg\" alt=\"Open In Colab\"/></a>"
      ]
    },
    {
      "cell_type": "code",
      "execution_count": null,
      "metadata": {
        "id": "K61r_blBvqHc"
      },
      "outputs": [],
      "source": [
        "%%capture\n",
        "# ACTION needed: download the data (with gdown or re-create using PaLit.xlsx)\n",
        "!git clone https://github.com/ipavlopoulos/palit.git"
      ]
    },
    {
      "cell_type": "code",
      "source": [
        "from palit.code.regression import *\n",
        "import matplotlib.pyplot as plt\n",
        "import pandas as pd\n",
        "import numpy as np\n",
        "from sklearn.model_selection import train_test_split\n",
        "from sklearn.metrics import *\n",
        "pll = pd.read_pickle(\"pll.csv\")\n",
        "dataset = pll.explode(\"img\")\n",
        "dataset = dataset[dataset.img.notna()]\n",
        "print(\"Lines num:\", dataset.shape[0])\n",
        "\n",
        "w,h = 300,50\n",
        "img_data = pd.DataFrame(dataset.img.apply(lambda x: x.shape).tolist(), index=dataset.index, columns=[\"H\", \"W\"])\n",
        "dataset = dataset[(img_data.W>w)&(img_data.H>h)]\n",
        "dataset.insert(0, \"lid\", range(1, dataset.shape[0]+1))\n",
        "\n",
        "pll_train, pll_test = train_test_split(dataset, test_size=0.1, random_state=2023)\n",
        "pll_train, pll_val = train_test_split(pll_train, test_size=pll_test.shape[0], random_state=2023)\n",
        "print(pll_train.shape[0], pll_val.shape[0], pll_test.shape[0])"
      ],
      "metadata": {
        "colab": {
          "base_uri": "https://localhost:8080/"
        },
        "id": "9er-QpvjvtRa",
        "outputId": "3ad3d5f9-fdd7-4c40-bdb6-902ba6077331"
      },
      "execution_count": null,
      "outputs": [
        {
          "output_type": "stream",
          "name": "stdout",
          "text": [
            "Lines num: 4717\n",
            "2218 278 278\n"
          ]
        }
      ]
    },
    {
      "cell_type": "code",
      "source": [
        "# ACTION needed: download the checkpoing\n",
        "net = Net()\n",
        "net.load_state_dict(torch.load(\"cnn_reg_l039e180.pt\", map_location=torch.device('cpu')))"
      ],
      "metadata": {
        "colab": {
          "base_uri": "https://localhost:8080/"
        },
        "id": "WNd-sM2OwCPZ",
        "outputId": "84a06173-ef2e-4d19-def7-a6f4c6ffb58d"
      },
      "execution_count": null,
      "outputs": [
        {
          "output_type": "execute_result",
          "data": {
            "text/plain": [
              "<All keys matched successfully>"
            ]
          },
          "metadata": {},
          "execution_count": 11
        }
      ]
    },
    {
      "cell_type": "code",
      "source": [
        "test_loader = DataLoader(ImageDataset(pll_test, transform=rs_transform), batch_size=1)\n",
        "predictions, labels = validate(net, test_loader, device=\"cpu\")\n",
        "print(nn.L1Loss()(torch.Tensor(predictions), torch.Tensor(labels)).numpy())"
      ],
      "metadata": {
        "colab": {
          "base_uri": "https://localhost:8080/"
        },
        "id": "0AUbdKW4w-wo",
        "outputId": "3c7d1f95-2f45-408c-b60f-cdeb3e3fb16f"
      },
      "execution_count": null,
      "outputs": [
        {
          "output_type": "stream",
          "name": "stdout",
          "text": [
            "0.539179\n"
          ]
        }
      ]
    },
    {
      "cell_type": "code",
      "source": [
        "from sklearn.metrics import ConfusionMatrixDisplay\n",
        "import matplotlib.pyplot as plt\n",
        "import seaborn as sns; sns.reset_orig();\n",
        "\n",
        "ax = ConfusionMatrixDisplay.from_predictions([int(l) for l in labels], [round(p) for p in predictions], colorbar=False);\n",
        "plt.tight_layout()\n",
        "ax.figure_.savefig('confusion_reg.pdf', format='PDF', dpi=300)"
      ],
      "metadata": {
        "colab": {
          "base_uri": "https://localhost:8080/",
          "height": 487
        },
        "id": "TKIbXL33xqWv",
        "outputId": "187eb18c-0709-4a2e-a56a-d9e59c987b70"
      },
      "execution_count": null,
      "outputs": [
        {
          "output_type": "display_data",
          "data": {
            "text/plain": [
              "<Figure size 640x480 with 1 Axes>"
            ],
            "image/png": "[encoded data removed]"
          },
          "metadata": {}
        }
      ]
    },
    {
      "cell_type": "code",
      "source": [
        "print(classification_report([int(l) for l in labels], [round(p) for p in predictions]))"
      ],
      "metadata": {
        "colab": {
          "base_uri": "https://localhost:8080/"
        },
        "id": "crr2T9JLzPCy",
        "outputId": "c3cdb725-19b4-434b-ac18-6343d0801b38"
      },
      "execution_count": null,
      "outputs": [
        {
          "output_type": "stream",
          "name": "stdout",
          "text": [
            "              precision    recall  f1-score   support\n",
            "\n",
            "           1       0.56      0.26      0.35        35\n",
            "           2       0.60      0.65      0.62       121\n",
            "           3       0.51      0.62      0.56       103\n",
            "           4       0.60      0.16      0.25        19\n",
            "\n",
            "    accuracy                           0.56       278\n",
            "   macro avg       0.57      0.42      0.45       278\n",
            "weighted avg       0.56      0.56      0.54       278\n",
            "\n"
          ]
        }
      ]
    },
    {
      "cell_type": "code",
      "source": [],
      "metadata": {
        "id": "4ojV6-jg0AXV"
      },
      "execution_count": null,
      "outputs": []
    }
  ]
}