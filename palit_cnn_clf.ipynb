{
  "cells": [
    {
      "cell_type": "markdown",
      "metadata": {
        "id": "view-in-github",
        "colab_type": "text"
      },
      "source": [
        "<a href=\"https://colab.research.google.com/github/ipavlopoulos/palit/blob/main/palit_cnn_clf.ipynb\" target=\"_parent\"><img src=\"https://colab.research.google.com/assets/colab-badge.svg\" alt=\"Open In Colab\"/></a>"
      ]
    },
    {
      "cell_type": "markdown",
      "metadata": {
        "id": "xHAsYxZ1fGFT"
      },
      "source": [
        "#### Import libraries"
      ]
    },
    {
      "cell_type": "code",
      "execution_count": 1,
      "metadata": {
        "id": "adMNIwDMfGFX"
      },
      "outputs": [],
      "source": [
        "import torch\n",
        "import torch.nn.functional as F\n",
        "import torch.nn as nn\n",
        "import torch.optim as optim\n",
        "from torchvision import transforms\n",
        "from torch.utils.data import DataLoader\n",
        "from torch.utils.data import Dataset, TensorDataset\n",
        "\n",
        "import numpy as np\n",
        "import pandas as pd\n",
        "import matplotlib.pyplot as plt\n",
        "import seaborn as sns\n",
        "import skimage\n",
        "from skimage import transform\n",
        "from sklearn.model_selection import train_test_split\n",
        "from sklearn.preprocessing import OneHotEncoder\n",
        "from sklearn.metrics import *\n",
        "from sklearn.model_selection import GroupShuffleSplit, train_test_split\n",
        "from sklearn.metrics import confusion_matrix\n",
        "import xgboost as xgb \n",
        "\n",
        "from tqdm.notebook import tqdm\n",
        "import os\n",
        "import random"
      ]
    },
    {
      "cell_type": "markdown",
      "metadata": {
        "id": "d1OY-9dNfGFb"
      },
      "source": [
        "#### Classifier and training Utilities"
      ]
    },
    {
      "cell_type": "code",
      "execution_count": 2,
      "metadata": {
        "id": "t25ICipDfGFc"
      },
      "outputs": [],
      "source": [
        "class CNNCLF(nn.Module):\n",
        "    def __init__(self, n_classes):\n",
        "        super().__init__()\n",
        "\n",
        "        self.CNN = nn.Sequential(\n",
        "            nn.Conv2d(1, 32, kernel_size=5, stride=1, padding=0),\n",
        "            nn.ReLU(inplace=True),\n",
        "            nn.MaxPool2d(2, 2),\n",
        "            nn.BatchNorm2d(32),\n",
        "            \n",
        "            nn.Conv2d(32, 64, kernel_size=5),\n",
        "            nn.ReLU(inplace=True),\n",
        "            nn.BatchNorm2d(64),\n",
        "            nn.MaxPool2d(2, 2),\n",
        "        )\n",
        "        \n",
        "        self.MLP = nn.Sequential(\n",
        "            nn.Linear(41472, 1024, bias=True),\n",
        "            nn.ReLU(inplace=True),\n",
        "            nn.BatchNorm1d(1024),\n",
        "            nn.Dropout(p=0.1, inplace=True),\n",
        "            \n",
        "            nn.Linear(1024, 512, bias=True),\n",
        "            nn.ReLU(inplace=True),\n",
        "            nn.BatchNorm1d(512),\n",
        "            nn.Dropout(p=0.1, inplace=True),\n",
        "            \n",
        "            nn.Linear(512, n_classes, bias=True)\n",
        "        )\n",
        "        \n",
        "    def forward(self, x):\n",
        "        x = self.CNN(x.unsqueeze(1))\n",
        "        x = torch.flatten(x, 1)\n",
        "        x = self.MLP(x)\n",
        "        return x"
      ]
    },
    {
      "cell_type": "code",
      "execution_count": 47,
      "metadata": {
        "id": "GLG5nxgVfGFd"
      },
      "outputs": [],
      "source": [
        "# the model predicts the average - high variance\n",
        "def validate_clf(model, dataloader, device=\"cpu\", criterion = nn.CrossEntropyLoss()):\n",
        "    prediction_list, labels_list = [], []\n",
        "    model.eval()\n",
        "    loss = 0\n",
        "    with torch.no_grad():\n",
        "        for id_batch, (inputs, labels) in enumerate(dataloader):\n",
        "            inputs, labels = inputs.to(device), labels.to(device)\n",
        "            model.to(device)\n",
        "            outputs = model(inputs)\n",
        "            loss += criterion(outputs, labels).item()\n",
        "            labels = np.argmax(labels.cpu().detach().numpy(), axis=1)\n",
        "            predictions = np.argmax(outputs.cpu().detach().numpy(), axis=1)\n",
        "            prediction_list.append(predictions)\n",
        "            labels_list.append(labels)\n",
        "    p = np.concatenate(prediction_list)\n",
        "    g = np.concatenate(labels_list)\n",
        "    acc = accuracy_score(g, p)\n",
        "    return p, g, loss, acc\n",
        "\n",
        "def train_clf(model, dataloader, optimizer, criterion=nn.CrossEntropyLoss(), val_dataloader=None, patience=3, N_EPOCHS=100, device=\"cpu\"):\n",
        "    losses, mae_losses, val_losses, train_losses = [], [], [], []\n",
        "    dataset_size = len(dataloader.dataset)\n",
        "    lowest_error = 100000\n",
        "    best_epoch = -1\n",
        "    \n",
        "    for epoch in range(N_EPOCHS):\n",
        "        print(f\"Epoch {epoch + 1}\\n-------------------------------\")\n",
        "        train_loss = 0\n",
        "        # Loop over batches in an epoch using DataLoader\n",
        "        for id_batch, (inputs, labels) in enumerate(dataloader):\n",
        "            model.train()\n",
        "            inputs, labels = inputs.to(device), labels.to(device)\n",
        "            outputs = model(inputs)\n",
        "            loss = criterion(outputs, labels)\n",
        "            optimizer.zero_grad()\n",
        "            loss.backward()\n",
        "            optimizer.step()\n",
        "            train_loss += loss.item()\n",
        "\n",
        "        if val_dataloader is not None:\n",
        "            if (patience>0) and (epoch-best_epoch>patience-1) and epoch > 50:\n",
        "                print(\"Max patience reached, now loading the best checkpoint...\")\n",
        "                model.load_state_dict(torch.load(\"checkpoint.pt\"))\n",
        "                print(\"Exiting...\")\n",
        "                break\n",
        "            predictions, labels, val_loss, val_acc = validate_clf(model, val_dataloader, device=device)\n",
        "            val_losses.append(val_loss)\n",
        "            train_losses.append(train_loss)\n",
        "            if (patience>0) and (val_loss<lowest_error):\n",
        "                lowest_error = val_loss\n",
        "                best_epoch = epoch\n",
        "                torch.save(model.state_dict(), \"checkpoint.pt\")\n",
        "            print(f\"Train loss: {train_loss:.2f}, Val loss: {val_loss:.2f}, Val acc: {val_acc:.2f}\") \n",
        "            print(f\"Best Epoch: {best_epoch+1} (Val loss: {lowest_error:.2f})\") \n",
        "            print(f\"[val var: {np.var(predictions):.2f}, min-max: {min(predictions):.2f}-{max(predictions):.2f}]\")\n",
        "    model.eval()\n",
        "    return model, train_losses, val_losses"
      ]
    },
    {
      "cell_type": "markdown",
      "metadata": {
        "id": "UiCwjkRyfGFe"
      },
      "source": [
        "#### Data"
      ]
    },
    {
      "cell_type": "code",
      "execution_count": 4,
      "metadata": {
        "id": "SIVUONhwfGFg"
      },
      "outputs": [],
      "source": [
        "class ImageDataset(TensorDataset):\n",
        "    def __init__(self, dataframe, transform=None):\n",
        "        self.dataframe = dataframe\n",
        "        self.transform = transform\n",
        "        self.labels = np.array(self.dataframe['date'])\n",
        "        self.labels = np.reshape(self.labels, (self.labels.shape[0], 1))\n",
        "        self.labels = OneHotEncoder(sparse=False).fit_transform(self.labels)\n",
        "        \n",
        "    def __len__(self):\n",
        "        return self.dataframe.shape[0]\n",
        "\n",
        "    def __getitem__(self, idx):\n",
        "        sample, date = self.dataframe.iloc[idx].img.astype(np.float32), self.labels[idx]\n",
        "        if self.transform is not None:\n",
        "            sample = self.transform(sample)\n",
        "            sample = sample.reshape(sample.shape[1], sample.shape[2]) # grayscale\n",
        "        return sample, date # 1CE-4CE"
      ]
    },
    {
      "cell_type": "code",
      "source": [
        "!gdown 1kNgqJCFZS4Q-P2YSaeaYp9P2bTobyOCV\n",
        "pll = pd.read_pickle(\"pll.csv\")"
      ],
      "metadata": {
        "colab": {
          "base_uri": "https://localhost:8080/"
        },
        "id": "rRTb7bHcfP-c",
        "outputId": "67a2c92c-ab72-41b1-a1c8-3384ee1b7333"
      },
      "execution_count": 5,
      "outputs": [
        {
          "output_type": "stream",
          "name": "stdout",
          "text": [
            "Downloading...\n",
            "From: https://drive.google.com/uc?id=1kNgqJCFZS4Q-P2YSaeaYp9P2bTobyOCV\n",
            "To: /content/pll.csv\n",
            "100% 1.44G/1.44G [00:08<00:00, 171MB/s]\n"
          ]
        }
      ]
    },
    {
      "cell_type": "code",
      "execution_count": 6,
      "metadata": {
        "id": "ihIsP-JqfGFh"
      },
      "outputs": [],
      "source": [
        "dataset = pll.explode(\"img\")\n",
        "dataset = dataset[dataset.img.notna()]"
      ]
    },
    {
      "cell_type": "code",
      "execution_count": 7,
      "metadata": {
        "colab": {
          "base_uri": "https://localhost:8080/"
        },
        "id": "Uzs2-KrnfGFi",
        "outputId": "b24d1218-8e61-4cc1-b002-bad34257ca07"
      },
      "outputs": [
        {
          "output_type": "stream",
          "name": "stdout",
          "text": [
            "Lines num: 4717\n",
            "2218 278 278\n"
          ]
        }
      ],
      "source": [
        "print(\"Lines num:\", dataset.shape[0])\n",
        "\n",
        "w,h = 300,50\n",
        "img_data = pd.DataFrame(dataset.img.apply(lambda x: x.shape).tolist(), index=dataset.index, columns=[\"H\", \"W\"])\n",
        "dataset = dataset[(img_data.W>w)&(img_data.H>h)]\n",
        "dataset.insert(0, \"lid\", range(1, dataset.shape[0]+1))\n",
        "\n",
        "pll_train, pll_test = train_test_split(dataset, test_size=0.1, random_state=2023)\n",
        "pll_train, pll_val = train_test_split(pll_train, test_size=pll_test.shape[0], random_state=2023)\n",
        "print(pll_train.shape[0], pll_val.shape[0], pll_test.shape[0])"
      ]
    },
    {
      "cell_type": "code",
      "execution_count": 49,
      "metadata": {
        "id": "E5czl6aFfGFj"
      },
      "outputs": [],
      "source": [
        "augment = transforms.Compose([\n",
        "    transforms.ToPILImage(),\n",
        "    transforms.RandomAffine(3), # turn\n",
        "    transforms.RandomResizedCrop((50, 300), scale=(0.75, 1.0), ratio=(1, 6)), # crop n scale (add scale to control this)\n",
        "    #transforms.RandomCrop((30, 30)),\n",
        "    transforms.GaussianBlur(3), # blur\n",
        "    transforms.ToTensor(),\n",
        "    transforms.RandomErasing(p=0.5, value=0.5), # erase\n",
        "])\n",
        "\n",
        "cc_transform = transforms.Compose([\n",
        "    transforms.ToPILImage(),\n",
        "    transforms.CenterCrop((50, 300)),\n",
        "    transforms.ToTensor(),\n",
        "])\n",
        "\n",
        "rs_transform = transforms.Compose([\n",
        "    transforms.ToPILImage(),\n",
        "    transforms.Resize((50,300)),\n",
        "    transforms.ToTensor(),\n",
        "])\n",
        "\n",
        "white_fragment_ablation = transforms.Compose([\n",
        "    transforms.ToPILImage(),\n",
        "    transforms.Resize((50,300)),\n",
        "    transforms.RandomErasing(p=1, value=0), # erase\n",
        "    transforms.ToTensor(),\n",
        "])\n",
        "\n",
        "black_fragment_ablation = transforms.Compose([\n",
        "    transforms.ToPILImage(),\n",
        "    transforms.Resize((50,300)),\n",
        "    transforms.RandomErasing(p=1, value=1), # erase\n",
        "    transforms.ToTensor(),\n",
        "])"
      ]
    },
    {
      "cell_type": "markdown",
      "metadata": {
        "id": "kAuspXLmfGFk"
      },
      "source": [
        "#### Load Model"
      ]
    },
    {
      "cell_type": "code",
      "execution_count": null,
      "metadata": {
        "id": "6p9J1vRwfGFl"
      },
      "outputs": [],
      "source": [
        "#model = Classifier(n_classes=4)\n",
        "#model.load_state_dict(torch.load('./checkpoint.pt'))"
      ]
    },
    {
      "cell_type": "markdown",
      "metadata": {
        "id": "fTKo9zV-fGFl"
      },
      "source": [
        "### Training Procedure"
      ]
    },
    {
      "cell_type": "code",
      "execution_count": 48,
      "metadata": {
        "colab": {
          "base_uri": "https://localhost:8080/"
        },
        "id": "NGCQvvo9fGFl",
        "outputId": "e4416631-1ce0-4d1c-b1a2-23caf2695695"
      },
      "outputs": [
        {
          "output_type": "stream",
          "name": "stderr",
          "text": [
            "/usr/local/lib/python3.10/dist-packages/sklearn/preprocessing/_encoders.py:868: FutureWarning: `sparse` was renamed to `sparse_output` in version 1.2 and will be removed in 1.4. `sparse_output` is ignored unless you leave `sparse` to its default value.\n",
            "  warnings.warn(\n",
            "/usr/local/lib/python3.10/dist-packages/sklearn/preprocessing/_encoders.py:868: FutureWarning: `sparse` was renamed to `sparse_output` in version 1.2 and will be removed in 1.4. `sparse_output` is ignored unless you leave `sparse` to its default value.\n",
            "  warnings.warn(\n"
          ]
        },
        {
          "output_type": "stream",
          "name": "stdout",
          "text": [
            "Epoch 1\n",
            "-------------------------------\n",
            "Train loss: 172.23, Val loss: 25.81, Val acc: 0.33\n",
            "Best Epoch: 1 (Val loss: 25.81)\n",
            "[val var: 0.10, min-max: 0.00-2.00]\n",
            "Epoch 2\n",
            "-------------------------------\n",
            "Train loss: 154.88, Val loss: 17.24, Val acc: 0.59\n",
            "Best Epoch: 2 (Val loss: 17.24)\n",
            "[val var: 0.23, min-max: 1.00-2.00]\n",
            "Epoch 3\n",
            "-------------------------------\n",
            "Train loss: 150.96, Val loss: 17.03, Val acc: 0.60\n",
            "Best Epoch: 3 (Val loss: 17.03)\n",
            "[val var: 0.23, min-max: 1.00-2.00]\n",
            "Epoch 4\n",
            "-------------------------------\n",
            "Train loss: 145.59, Val loss: 17.62, Val acc: 0.63\n",
            "Best Epoch: 3 (Val loss: 17.03)\n",
            "[val var: 0.23, min-max: 1.00-2.00]\n",
            "Epoch 5\n",
            "-------------------------------\n",
            "Train loss: 142.11, Val loss: 17.02, Val acc: 0.59\n",
            "Best Epoch: 5 (Val loss: 17.02)\n",
            "[val var: 0.16, min-max: 1.00-2.00]\n",
            "Epoch 6\n",
            "-------------------------------\n",
            "Train loss: 137.23, Val loss: 18.78, Val acc: 0.54\n",
            "Best Epoch: 5 (Val loss: 17.02)\n",
            "[val var: 0.18, min-max: 0.00-2.00]\n",
            "Epoch 7\n",
            "-------------------------------\n",
            "Train loss: 136.55, Val loss: 16.76, Val acc: 0.59\n",
            "Best Epoch: 7 (Val loss: 16.76)\n",
            "[val var: 0.16, min-max: 1.00-2.00]\n",
            "Epoch 8\n",
            "-------------------------------\n",
            "Train loss: 135.27, Val loss: 15.59, Val acc: 0.64\n",
            "Best Epoch: 8 (Val loss: 15.59)\n",
            "[val var: 0.29, min-max: 0.00-2.00]\n",
            "Epoch 9\n",
            "-------------------------------\n",
            "Train loss: 130.95, Val loss: 16.67, Val acc: 0.59\n",
            "Best Epoch: 8 (Val loss: 15.59)\n",
            "[val var: 0.15, min-max: 0.00-2.00]\n",
            "Epoch 10\n",
            "-------------------------------\n",
            "Train loss: 130.11, Val loss: 14.52, Val acc: 0.71\n",
            "Best Epoch: 10 (Val loss: 14.52)\n",
            "[val var: 0.42, min-max: 0.00-3.00]\n",
            "Epoch 11\n",
            "-------------------------------\n",
            "Train loss: 130.06, Val loss: 14.85, Val acc: 0.69\n",
            "Best Epoch: 10 (Val loss: 14.52)\n",
            "[val var: 0.55, min-max: 0.00-3.00]\n",
            "Epoch 12\n",
            "-------------------------------\n",
            "Train loss: 119.31, Val loss: 17.11, Val acc: 0.61\n",
            "Best Epoch: 10 (Val loss: 14.52)\n",
            "[val var: 0.63, min-max: 0.00-3.00]\n",
            "Epoch 13\n",
            "-------------------------------\n",
            "Train loss: 117.37, Val loss: 14.95, Val acc: 0.67\n",
            "Best Epoch: 10 (Val loss: 14.52)\n",
            "[val var: 0.35, min-max: 0.00-2.00]\n",
            "Epoch 14\n",
            "-------------------------------\n",
            "Train loss: 127.11, Val loss: 18.31, Val acc: 0.55\n",
            "Best Epoch: 10 (Val loss: 14.52)\n",
            "[val var: 0.13, min-max: 0.00-2.00]\n",
            "Epoch 15\n",
            "-------------------------------\n",
            "Train loss: 117.37, Val loss: 16.47, Val acc: 0.60\n",
            "Best Epoch: 10 (Val loss: 14.52)\n",
            "[val var: 0.25, min-max: 0.00-2.00]\n",
            "Epoch 16\n",
            "-------------------------------\n",
            "Train loss: 117.77, Val loss: 14.32, Val acc: 0.71\n",
            "Best Epoch: 16 (Val loss: 14.32)\n",
            "[val var: 0.32, min-max: 0.00-3.00]\n",
            "Epoch 17\n",
            "-------------------------------\n",
            "Train loss: 113.77, Val loss: 15.93, Val acc: 0.66\n",
            "Best Epoch: 16 (Val loss: 14.32)\n",
            "[val var: 0.32, min-max: 0.00-3.00]\n",
            "Epoch 18\n",
            "-------------------------------\n",
            "Train loss: 129.96, Val loss: 19.82, Val acc: 0.52\n",
            "Best Epoch: 16 (Val loss: 14.32)\n",
            "[val var: 0.12, min-max: 1.00-2.00]\n",
            "Epoch 19\n",
            "-------------------------------\n",
            "Train loss: 124.15, Val loss: 14.97, Val acc: 0.65\n",
            "Best Epoch: 16 (Val loss: 14.32)\n",
            "[val var: 0.22, min-max: 0.00-2.00]\n",
            "Epoch 20\n",
            "-------------------------------\n",
            "Train loss: 112.41, Val loss: 14.27, Val acc: 0.69\n",
            "Best Epoch: 20 (Val loss: 14.27)\n",
            "[val var: 0.31, min-max: 0.00-3.00]\n",
            "Epoch 21\n",
            "-------------------------------\n",
            "Train loss: 108.68, Val loss: 19.22, Val acc: 0.52\n",
            "Best Epoch: 20 (Val loss: 14.27)\n",
            "[val var: 0.22, min-max: 0.00-2.00]\n",
            "Epoch 22\n",
            "-------------------------------\n",
            "Train loss: 105.69, Val loss: 28.15, Val acc: 0.53\n",
            "Best Epoch: 20 (Val loss: 14.27)\n",
            "[val var: 0.13, min-max: 1.00-3.00]\n",
            "Epoch 23\n",
            "-------------------------------\n",
            "Train loss: 128.26, Val loss: 17.49, Val acc: 0.63\n",
            "Best Epoch: 20 (Val loss: 14.27)\n",
            "[val var: 0.24, min-max: 0.00-2.00]\n",
            "Epoch 24\n",
            "-------------------------------\n",
            "Train loss: 115.67, Val loss: 16.31, Val acc: 0.66\n",
            "Best Epoch: 20 (Val loss: 14.27)\n",
            "[val var: 0.49, min-max: 0.00-3.00]\n",
            "Epoch 25\n",
            "-------------------------------\n",
            "Train loss: 118.08, Val loss: 14.98, Val acc: 0.65\n",
            "Best Epoch: 20 (Val loss: 14.27)\n",
            "[val var: 0.31, min-max: 0.00-2.00]\n",
            "Epoch 26\n",
            "-------------------------------\n",
            "Train loss: 111.82, Val loss: 16.47, Val acc: 0.63\n",
            "Best Epoch: 20 (Val loss: 14.27)\n",
            "[val var: 0.53, min-max: 0.00-3.00]\n",
            "Epoch 27\n",
            "-------------------------------\n",
            "Train loss: 105.42, Val loss: 13.27, Val acc: 0.73\n",
            "Best Epoch: 27 (Val loss: 13.27)\n",
            "[val var: 0.41, min-max: 0.00-3.00]\n",
            "Epoch 28\n",
            "-------------------------------\n",
            "Train loss: 103.89, Val loss: 15.05, Val acc: 0.67\n",
            "Best Epoch: 27 (Val loss: 13.27)\n",
            "[val var: 0.45, min-max: 0.00-3.00]\n",
            "Epoch 29\n",
            "-------------------------------\n",
            "Train loss: 98.29, Val loss: 13.42, Val acc: 0.71\n",
            "Best Epoch: 27 (Val loss: 13.27)\n",
            "[val var: 0.44, min-max: 0.00-3.00]\n",
            "Epoch 30\n",
            "-------------------------------\n",
            "Train loss: 95.21, Val loss: 14.44, Val acc: 0.66\n",
            "Best Epoch: 27 (Val loss: 13.27)\n",
            "[val var: 0.47, min-max: 0.00-3.00]\n",
            "Epoch 31\n",
            "-------------------------------\n",
            "Train loss: 88.67, Val loss: 14.04, Val acc: 0.72\n",
            "Best Epoch: 27 (Val loss: 13.27)\n",
            "[val var: 0.45, min-max: 0.00-3.00]\n",
            "Epoch 32\n",
            "-------------------------------\n",
            "Train loss: 91.03, Val loss: 14.18, Val acc: 0.71\n",
            "Best Epoch: 27 (Val loss: 13.27)\n",
            "[val var: 0.44, min-max: 0.00-3.00]\n",
            "Epoch 33\n",
            "-------------------------------\n",
            "Train loss: 89.00, Val loss: 15.64, Val acc: 0.62\n",
            "Best Epoch: 27 (Val loss: 13.27)\n",
            "[val var: 0.30, min-max: 0.00-3.00]\n",
            "Epoch 34\n",
            "-------------------------------\n",
            "Train loss: 79.83, Val loss: 17.14, Val acc: 0.65\n",
            "Best Epoch: 27 (Val loss: 13.27)\n",
            "[val var: 0.46, min-max: 0.00-3.00]\n",
            "Epoch 35\n",
            "-------------------------------\n",
            "Train loss: 86.30, Val loss: 14.72, Val acc: 0.67\n",
            "Best Epoch: 27 (Val loss: 13.27)\n",
            "[val var: 0.52, min-max: 0.00-3.00]\n",
            "Epoch 36\n",
            "-------------------------------\n",
            "Train loss: 77.37, Val loss: 13.99, Val acc: 0.73\n",
            "Best Epoch: 27 (Val loss: 13.27)\n",
            "[val var: 0.39, min-max: 0.00-3.00]\n",
            "Epoch 37\n",
            "-------------------------------\n",
            "Train loss: 98.74, Val loss: 15.98, Val acc: 0.63\n",
            "Best Epoch: 27 (Val loss: 13.27)\n",
            "[val var: 0.36, min-max: 0.00-3.00]\n",
            "Epoch 38\n",
            "-------------------------------\n",
            "Train loss: 98.73, Val loss: 16.09, Val acc: 0.69\n",
            "Best Epoch: 27 (Val loss: 13.27)\n",
            "[val var: 0.43, min-max: 0.00-3.00]\n",
            "Epoch 39\n",
            "-------------------------------\n",
            "Train loss: 86.25, Val loss: 14.21, Val acc: 0.72\n",
            "Best Epoch: 27 (Val loss: 13.27)\n",
            "[val var: 0.47, min-max: 0.00-3.00]\n",
            "Epoch 40\n",
            "-------------------------------\n",
            "Train loss: 79.78, Val loss: 14.89, Val acc: 0.69\n",
            "Best Epoch: 27 (Val loss: 13.27)\n",
            "[val var: 0.66, min-max: 0.00-3.00]\n",
            "Epoch 41\n",
            "-------------------------------\n",
            "Train loss: 73.44, Val loss: 17.34, Val acc: 0.66\n",
            "Best Epoch: 27 (Val loss: 13.27)\n",
            "[val var: 0.45, min-max: 0.00-3.00]\n",
            "Epoch 42\n",
            "-------------------------------\n",
            "Train loss: 82.71, Val loss: 15.65, Val acc: 0.71\n",
            "Best Epoch: 27 (Val loss: 13.27)\n",
            "[val var: 0.34, min-max: 0.00-3.00]\n",
            "Epoch 43\n",
            "-------------------------------\n",
            "Train loss: 75.30, Val loss: 16.68, Val acc: 0.69\n",
            "Best Epoch: 27 (Val loss: 13.27)\n",
            "[val var: 0.42, min-max: 0.00-3.00]\n",
            "Epoch 44\n",
            "-------------------------------\n",
            "Train loss: 71.95, Val loss: 16.52, Val acc: 0.68\n",
            "Best Epoch: 27 (Val loss: 13.27)\n",
            "[val var: 0.50, min-max: 0.00-3.00]\n",
            "Epoch 45\n",
            "-------------------------------\n",
            "Train loss: 69.36, Val loss: 16.04, Val acc: 0.70\n",
            "Best Epoch: 27 (Val loss: 13.27)\n",
            "[val var: 0.40, min-max: 0.00-3.00]\n",
            "Epoch 46\n",
            "-------------------------------\n",
            "Train loss: 61.69, Val loss: 16.55, Val acc: 0.68\n",
            "Best Epoch: 27 (Val loss: 13.27)\n",
            "[val var: 0.48, min-max: 0.00-3.00]\n",
            "Epoch 47\n",
            "-------------------------------\n",
            "Train loss: 59.14, Val loss: 17.12, Val acc: 0.70\n",
            "Best Epoch: 27 (Val loss: 13.27)\n",
            "[val var: 0.54, min-max: 0.00-3.00]\n",
            "Epoch 48\n",
            "-------------------------------\n",
            "Train loss: 63.33, Val loss: 17.65, Val acc: 0.65\n",
            "Best Epoch: 27 (Val loss: 13.27)\n",
            "[val var: 0.42, min-max: 0.00-3.00]\n",
            "Epoch 49\n",
            "-------------------------------\n",
            "Train loss: 68.95, Val loss: 17.73, Val acc: 0.62\n",
            "Best Epoch: 27 (Val loss: 13.27)\n",
            "[val var: 0.42, min-max: 0.00-3.00]\n",
            "Epoch 50\n",
            "-------------------------------\n",
            "Train loss: 69.78, Val loss: 16.69, Val acc: 0.67\n",
            "Best Epoch: 27 (Val loss: 13.27)\n",
            "[val var: 0.51, min-max: 0.00-3.00]\n",
            "Epoch 51\n",
            "-------------------------------\n",
            "Train loss: 61.86, Val loss: 16.49, Val acc: 0.67\n",
            "Best Epoch: 27 (Val loss: 13.27)\n",
            "[val var: 0.44, min-max: 0.00-3.00]\n",
            "Epoch 52\n",
            "-------------------------------\n",
            "Max patience reached, now loading the best checkpoint...\n",
            "Exiting...\n"
          ]
        }
      ],
      "source": [
        "epochs, batch_size, device, n_classes, lr, patience = 150, 16, \"cuda\", 4, 1e-3, 10\n",
        "dataloader = DataLoader(ImageDataset(pll_train, transform=augment), batch_size=batch_size, drop_last=False, shuffle=True)\n",
        "val_dataloader = DataLoader(ImageDataset(pll_val, transform=rs_transform), batch_size=batch_size, drop_last=False)\n",
        "model = CNNCLF(n_classes=n_classes).to(device)\n",
        "optimizer = optim.Adam(model.parameters(), lr=lr)\n",
        "model, train_losses, val_losses = train_clf(device=device, dataloader=dataloader, model=model, optimizer=optimizer, N_EPOCHS=epochs, val_dataloader=val_dataloader, patience=patience)"
      ]
    },
    {
      "cell_type": "markdown",
      "source": [
        "# Eval"
      ],
      "metadata": {
        "id": "UG17941BMSKd"
      }
    },
    {
      "cell_type": "code",
      "execution_count": 53,
      "metadata": {
        "id": "jNBWoxpZfGFm",
        "colab": {
          "base_uri": "https://localhost:8080/",
          "height": 453
        },
        "outputId": "73f87242-106e-485e-c2d6-95ca36899782"
      },
      "outputs": [
        {
          "output_type": "execute_result",
          "data": {
            "text/plain": [
              "<Axes: >"
            ]
          },
          "metadata": {},
          "execution_count": 53
        },
        {
          "output_type": "display_data",
          "data": {
            "text/plain": [
              "<Figure size 640x480 with 1 Axes>"
            ],
            "image/png": "[encoded data removed]"
          },
          "metadata": {}
        }
      ],
      "source": [
        "pd.DataFrame({\"train\": train_losses, \"val\": [float(v) for v in val_losses]}, index=range(len(train_losses))).plot()"
      ]
    },
    {
      "cell_type": "code",
      "execution_count": 64,
      "metadata": {
        "id": "PYjU-I51fGFn",
        "outputId": "d99e2705-a7df-48da-ead6-16bdba2d91bc",
        "colab": {
          "base_uri": "https://localhost:8080/",
          "height": 523
        }
      },
      "outputs": [
        {
          "output_type": "stream",
          "name": "stderr",
          "text": [
            "/usr/local/lib/python3.10/dist-packages/sklearn/preprocessing/_encoders.py:868: FutureWarning: `sparse` was renamed to `sparse_output` in version 1.2 and will be removed in 1.4. `sparse_output` is ignored unless you leave `sparse` to its default value.\n",
            "  warnings.warn(\n"
          ]
        },
        {
          "output_type": "stream",
          "name": "stdout",
          "text": [
            "Acc: 0.68\n"
          ]
        },
        {
          "output_type": "display_data",
          "data": {
            "text/plain": [
              "<Figure size 640x480 with 2 Axes>"
            ],
            "image/png": "[encoded data removed]"
          },
          "metadata": {}
        }
      ],
      "source": [
        "test_loader = DataLoader(ImageDataset(pll_test, transform=rs_transform), batch_size=1)\n",
        "predictions, labels, loss, acc = validate_clf(model, test_loader)\n",
        "print(f'Acc: {acc:.2f}')\n",
        "ax = ConfusionMatrixDisplay.from_predictions(labels, predictions);\n",
        "ax.figure_.savefig('confusion.pdf', format='PDF', dpi=300)"
      ]
    },
    {
      "cell_type": "code",
      "execution_count": 67,
      "metadata": {
        "id": "frBfCDVofGFp",
        "colab": {
          "base_uri": "https://localhost:8080/"
        },
        "outputId": "81b0622a-1013-460b-99d4-7c3836b0835d"
      },
      "outputs": [
        {
          "output_type": "stream",
          "name": "stderr",
          "text": [
            "/usr/local/lib/python3.10/dist-packages/sklearn/preprocessing/_encoders.py:868: FutureWarning: `sparse` was renamed to `sparse_output` in version 1.2 and will be removed in 1.4. `sparse_output` is ignored unless you leave `sparse` to its default value.\n",
            "  warnings.warn(\n"
          ]
        }
      ],
      "source": [
        "dataloader = DataLoader(ImageDataset(pll_test, transform=rs_transform), batch_size=1)\n",
        "device = 'cpu'\n",
        "criterion = nn.CrossEntropyLoss().to(device)\n",
        "model.eval()\n",
        "for batch_index, (batch, labels) in enumerate(dataloader):\n",
        "    batch = batch.to(device)\n",
        "    labels = labels.to(device)\n",
        "    batch = batch.requires_grad_(requires_grad=True)\n",
        "    \n",
        "    output = model(batch).to(device)\n",
        "    loss = criterion(output, labels)\n",
        "\n",
        "    loss.backward()\n",
        "  \n",
        "    batch_grad = batch.grad.cpu().detach().numpy()\n",
        "    batch_grad = np.squeeze(batch_grad)\n",
        "    batch_grad = np.absolute(batch_grad)\n",
        "\n",
        "    fig, axs = plt.subplots(2, 1, figsize=(10, 5))\n",
        "    axs[0].imshow(batch_grad, cmap='hot', interpolation='nearest')\n",
        "    axs[1].imshow(np.squeeze(batch.cpu().detach().numpy()), cmap='gray')\n",
        "\n",
        "    # plt.colorbar()\n",
        "    plt.savefig('./Heatmaps/heatmap_{:d}'.format(batch_index))\n",
        "    plt.close()"
      ]
    },
    {
      "cell_type": "markdown",
      "metadata": {
        "id": "ngjTTSPUfGFp"
      },
      "source": [
        "#### Save model"
      ]
    },
    {
      "cell_type": "code",
      "execution_count": null,
      "metadata": {
        "id": "V7loaicSfGFp"
      },
      "outputs": [],
      "source": [
        "torch.save(model.state_dict(), './Model/model.pth')"
      ]
    },
    {
      "cell_type": "code",
      "source": [],
      "metadata": {
        "id": "XNLqe-_rYvpI"
      },
      "execution_count": 71,
      "outputs": []
    }
  ],
  "metadata": {
    "kernelspec": {
      "display_name": "Python 3",
      "name": "python3"
    },
    "language_info": {
      "codemirror_mode": {
        "name": "ipython",
        "version": 3
      },
      "file_extension": ".py",
      "mimetype": "text/x-python",
      "name": "python",
      "nbconvert_exporter": "python",
      "pygments_lexer": "ipython3",
      "version": "3.10.9"
    },
    "colab": {
      "provenance": [],
      "gpuType": "T4",
      "machine_shape": "hm",
      "collapsed_sections": [
        "kAuspXLmfGFk"
      ],
      "include_colab_link": true
    },
    "accelerator": "GPU"
  },
  "nbformat": 4,
  "nbformat_minor": 0
}